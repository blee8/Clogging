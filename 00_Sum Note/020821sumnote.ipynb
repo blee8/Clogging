{
 "cells": [
  {
   "cell_type": "markdown",
   "metadata": {
    "collapsed": true,
    "pycharm": {
     "name": "#%% md\n"
    }
   },
   "source": [
    "## scratch note"
   ]
  },
  {
   "cell_type": "markdown",
   "source": [
    "convolution layer is applied to a sliding window of inputs\n",
    "\n",
    "Note that the output is shorter than the input.\n",
    "To make **training or plotting work**, you need the **labels, and prediction** to have the same length.\n",
    "So build a WindowGenerator to produce wide windows....\n",
    "\n",
    "\n",
    "\n",
    "The difference between this conv_model and the multi_step_dense model is that the conv_model can be run on inputs of any length. The convolutional layer is applied to a sliding window of inputs:\n"
   ],
   "metadata": {
    "collapsed": false,
    "pycharm": {
     "name": "#%% md\n"
    }
   }
  }
 ],
 "metadata": {
  "kernelspec": {
   "display_name": "Python 3",
   "language": "python",
   "name": "python3"
  },
  "language_info": {
   "codemirror_mode": {
    "name": "ipython",
    "version": 2
   },
   "file_extension": ".py",
   "mimetype": "text/x-python",
   "name": "python",
   "nbconvert_exporter": "python",
   "pygments_lexer": "ipython2",
   "version": "2.7.6"
  }
 },
 "nbformat": 4,
 "nbformat_minor": 0
}