{
 "cells": [
  {
   "cell_type": "code",
   "execution_count": 2,
   "metadata": {
    "collapsed": true
   },
   "outputs": [],
   "source": [
    "import os\n",
    "import datetime\n",
    "\n",
    "import IPython\n",
    "import IPython.display\n",
    "import matplotlib as mpl\n",
    "import matplotlib.pyplot as plt\n",
    "import numpy as np\n",
    "import pandas as pd\n",
    "import seaborn as sns\n",
    "import tensorflow as tf\n",
    "\n",
    "mpl.rcParams['figure.figsize'] = (8, 6)\n",
    "mpl.rcParams['axes.grid'] = False\n",
    "\n",
    "import mglearn\n",
    "#import t_Mod\n",
    "from t_Mod import *\n",
    "#from t_Mod.plots_t import *"
   ]
  },
  {
   "cell_type": "code",
   "execution_count": 3,
   "outputs": [
    {
     "data": {
      "text/plain": "       IR  FlowHt  Sand  Ash   delIR\n0  1.0000  0.0000   1.0  0.0  0.0000\n1  0.9995  0.1798   1.0  0.0 -0.0005\n2  0.9985  0.5389   1.0  0.0 -0.0010\n3  0.9970  1.0757   1.0  0.0 -0.0015\n4  0.9950  1.7884   1.0  0.0 -0.0020",
      "text/html": "<div>\n<style scoped>\n    .dataframe tbody tr th:only-of-type {\n        vertical-align: middle;\n    }\n\n    .dataframe tbody tr th {\n        vertical-align: top;\n    }\n\n    .dataframe thead th {\n        text-align: right;\n    }\n</style>\n<table border=\"1\" class=\"dataframe\">\n  <thead>\n    <tr style=\"text-align: right;\">\n      <th></th>\n      <th>IR</th>\n      <th>FlowHt</th>\n      <th>Sand</th>\n      <th>Ash</th>\n      <th>delIR</th>\n    </tr>\n  </thead>\n  <tbody>\n    <tr>\n      <th>0</th>\n      <td>1.0000</td>\n      <td>0.0000</td>\n      <td>1.0</td>\n      <td>0.0</td>\n      <td>0.0000</td>\n    </tr>\n    <tr>\n      <th>1</th>\n      <td>0.9995</td>\n      <td>0.1798</td>\n      <td>1.0</td>\n      <td>0.0</td>\n      <td>-0.0005</td>\n    </tr>\n    <tr>\n      <th>2</th>\n      <td>0.9985</td>\n      <td>0.5389</td>\n      <td>1.0</td>\n      <td>0.0</td>\n      <td>-0.0010</td>\n    </tr>\n    <tr>\n      <th>3</th>\n      <td>0.9970</td>\n      <td>1.0757</td>\n      <td>1.0</td>\n      <td>0.0</td>\n      <td>-0.0015</td>\n    </tr>\n    <tr>\n      <th>4</th>\n      <td>0.9950</td>\n      <td>1.7884</td>\n      <td>1.0</td>\n      <td>0.0</td>\n      <td>-0.0020</td>\n    </tr>\n  </tbody>\n</table>\n</div>"
     },
     "metadata": {},
     "output_type": "display_data"
    }
   ],
   "source": [
    "df = pd.read_csv(\n",
    "    os.path.join(mglearn.datasets.DATA_PATH, \"constant(del).csv\") )\n",
    "#df2 = pd.read_csv(\n",
    "#    os.path.join(mglearn.datasets.DATA_PATH, \"constant(val).csv\") )\n",
    "# 예제를 위해 몇개의 열만 선택합니다\n",
    "#df = df[['IR', 'FlowHt', 'Const', 'Var', 'Base', 'MixS75','MixS50','MixS25']]\n",
    "#df = df[['IR', 'FlowHt', 'Sand','Ash','delIR','delFlow']]\n",
    "df = df[['IR', 'FlowHt', 'Sand','Ash','delIR','delFlow']]\n",
    "#df2 = df2[['IR', 'FlowHt', 'Sand','Ash']]\n",
    "df['delIF'] = df['delFlow']/df['delIR']*-1\n",
    "\n",
    "df['delIF']=df['delIF'].replace(np.nan, 0)\n",
    "df = df[['IR', 'FlowHt', 'Sand','Ash','delIR' ]]\n",
    "\n",
    "display(df.head())\n",
    "#display(df2.head())"
   ],
   "metadata": {
    "collapsed": false,
    "pycharm": {
     "name": "#%%\n"
    }
   }
  },
  {
   "cell_type": "code",
   "execution_count": 4,
   "outputs": [
    {
     "data": {
      "text/plain": "                 IR        FlowHt          Sand           Ash         delIR\ncount  4.640000e+02  4.640000e+02  4.640000e+02  4.640000e+02  4.640000e+02\nmean   8.958351e-16  5.206563e-16  1.025999e-15 -4.594026e-17 -1.171477e-15\nstd    1.000000e+00  1.000000e+00  1.000000e+00  1.000000e+00  1.000000e+00\nmin   -2.176627e+00 -7.652509e-01 -1.580300e+00 -1.494878e+00 -1.700605e+00\n25%   -7.680453e-01 -5.173944e-01 -6.833730e-01 -7.687946e-01 -8.652203e-01\n50%    2.789270e-01 -3.921051e-01 -4.271081e-02  4.271081e-02 -1.242062e-15\n75%    9.075088e-01 -1.197864e-01  7.687946e-01  6.833730e-01  8.652203e-01\nmax    1.116704e+00  3.380477e+00  1.494878e+00  1.580300e+00  1.700605e+00",
      "text/html": "<div>\n<style scoped>\n    .dataframe tbody tr th:only-of-type {\n        vertical-align: middle;\n    }\n\n    .dataframe tbody tr th {\n        vertical-align: top;\n    }\n\n    .dataframe thead th {\n        text-align: right;\n    }\n</style>\n<table border=\"1\" class=\"dataframe\">\n  <thead>\n    <tr style=\"text-align: right;\">\n      <th></th>\n      <th>IR</th>\n      <th>FlowHt</th>\n      <th>Sand</th>\n      <th>Ash</th>\n      <th>delIR</th>\n    </tr>\n  </thead>\n  <tbody>\n    <tr>\n      <th>count</th>\n      <td>4.640000e+02</td>\n      <td>4.640000e+02</td>\n      <td>4.640000e+02</td>\n      <td>4.640000e+02</td>\n      <td>4.640000e+02</td>\n    </tr>\n    <tr>\n      <th>mean</th>\n      <td>8.958351e-16</td>\n      <td>5.206563e-16</td>\n      <td>1.025999e-15</td>\n      <td>-4.594026e-17</td>\n      <td>-1.171477e-15</td>\n    </tr>\n    <tr>\n      <th>std</th>\n      <td>1.000000e+00</td>\n      <td>1.000000e+00</td>\n      <td>1.000000e+00</td>\n      <td>1.000000e+00</td>\n      <td>1.000000e+00</td>\n    </tr>\n    <tr>\n      <th>min</th>\n      <td>-2.176627e+00</td>\n      <td>-7.652509e-01</td>\n      <td>-1.580300e+00</td>\n      <td>-1.494878e+00</td>\n      <td>-1.700605e+00</td>\n    </tr>\n    <tr>\n      <th>25%</th>\n      <td>-7.680453e-01</td>\n      <td>-5.173944e-01</td>\n      <td>-6.833730e-01</td>\n      <td>-7.687946e-01</td>\n      <td>-8.652203e-01</td>\n    </tr>\n    <tr>\n      <th>50%</th>\n      <td>2.789270e-01</td>\n      <td>-3.921051e-01</td>\n      <td>-4.271081e-02</td>\n      <td>4.271081e-02</td>\n      <td>-1.242062e-15</td>\n    </tr>\n    <tr>\n      <th>75%</th>\n      <td>9.075088e-01</td>\n      <td>-1.197864e-01</td>\n      <td>7.687946e-01</td>\n      <td>6.833730e-01</td>\n      <td>8.652203e-01</td>\n    </tr>\n    <tr>\n      <th>max</th>\n      <td>1.116704e+00</td>\n      <td>3.380477e+00</td>\n      <td>1.494878e+00</td>\n      <td>1.580300e+00</td>\n      <td>1.700605e+00</td>\n    </tr>\n  </tbody>\n</table>\n</div>"
     },
     "execution_count": 4,
     "metadata": {},
     "output_type": "execute_result"
    },
    {
     "data": {
      "text/plain": "<Figure size 864x432 with 1 Axes>",
      "image/png": "[encoded data removed]"
     },
     "metadata": {
      "needs_background": "light"
     },
     "output_type": "display_data"
    }
   ],
   "source": [
    "df_mean = df.mean()\n",
    "df_std = df.std()\n",
    "df_std_s = (df - df_mean) / df_std\n",
    "df_std_m = df_std_s.melt(var_name='Column', value_name='Normalized')\n",
    "plt.figure(figsize=(12, 6))\n",
    "ax = sns.violinplot(x='Column', y='Normalized', data=df_std_m)\n",
    "_ = ax.set_xticklabels(df.keys(), rotation=90)\n",
    "df_std_s.describe()"
   ],
   "metadata": {
    "collapsed": false,
    "pycharm": {
     "name": "#%%\n"
    }
   }
  },
  {
   "cell_type": "code",
   "execution_count": 5,
   "outputs": [],
   "source": [
    "# data\n",
    "df_org = df\n",
    "#df = df_std_s\n",
    "\n",
    "column_indices = {name: i for i, name in enumerate(df.columns)}\n",
    "\n",
    "n = len(df)*0.5\n",
    "\n",
    "curve_0 = df[0:int(n*0.25)].copy()\n",
    "curve_1 = df[int(n*0.25):int(n*0.5)].copy()\n",
    "curve_2 = df[int(n*0.5):int(n*0.75)].copy()\n",
    "curve_3 = df[int(n*0.75):int(n)].copy()\n",
    "curve_4 = df[int(n):].copy()\n",
    "#train_df_s = train_df_s.reset_index(drop=True)"
   ],
   "metadata": {
    "collapsed": false,
    "pycharm": {
     "name": "#%%\n"
    }
   }
  },
  {
   "cell_type": "code",
   "execution_count": 6,
   "outputs": [
    {
     "data": {
      "text/plain": "               IR      FlowHt        Sand         Ash       delIR\ncount  464.000000  464.000000  464.000000  464.000000  464.000000\nmean     0.719750   18.216106    0.562500    0.437500   -0.014250\nstd      0.250962   23.804094    0.292666    0.292666    0.008379\nmin      0.173500    0.000000    0.100000    0.000000   -0.028500\n25%      0.527000    5.900000    0.362500    0.212500   -0.021500\n50%      0.789750    8.882400    0.550000    0.450000   -0.014250\n75%      0.947500   15.364700    0.787500    0.637500   -0.007000\nmax      1.000000   98.685300    1.000000    0.900000    0.000000",
      "text/html": "<div>\n<style scoped>\n    .dataframe tbody tr th:only-of-type {\n        vertical-align: middle;\n    }\n\n    .dataframe tbody tr th {\n        vertical-align: top;\n    }\n\n    .dataframe thead th {\n        text-align: right;\n    }\n</style>\n<table border=\"1\" class=\"dataframe\">\n  <thead>\n    <tr style=\"text-align: right;\">\n      <th></th>\n      <th>IR</th>\n      <th>FlowHt</th>\n      <th>Sand</th>\n      <th>Ash</th>\n      <th>delIR</th>\n    </tr>\n  </thead>\n  <tbody>\n    <tr>\n      <th>count</th>\n      <td>464.000000</td>\n      <td>464.000000</td>\n      <td>464.000000</td>\n      <td>464.000000</td>\n      <td>464.000000</td>\n    </tr>\n    <tr>\n      <th>mean</th>\n      <td>0.719750</td>\n      <td>18.216106</td>\n      <td>0.562500</td>\n      <td>0.437500</td>\n      <td>-0.014250</td>\n    </tr>\n    <tr>\n      <th>std</th>\n      <td>0.250962</td>\n      <td>23.804094</td>\n      <td>0.292666</td>\n      <td>0.292666</td>\n      <td>0.008379</td>\n    </tr>\n    <tr>\n      <th>min</th>\n      <td>0.173500</td>\n      <td>0.000000</td>\n      <td>0.100000</td>\n      <td>0.000000</td>\n      <td>-0.028500</td>\n    </tr>\n    <tr>\n      <th>25%</th>\n      <td>0.527000</td>\n      <td>5.900000</td>\n      <td>0.362500</td>\n      <td>0.212500</td>\n      <td>-0.021500</td>\n    </tr>\n    <tr>\n      <th>50%</th>\n      <td>0.789750</td>\n      <td>8.882400</td>\n      <td>0.550000</td>\n      <td>0.450000</td>\n      <td>-0.014250</td>\n    </tr>\n    <tr>\n      <th>75%</th>\n      <td>0.947500</td>\n      <td>15.364700</td>\n      <td>0.787500</td>\n      <td>0.637500</td>\n      <td>-0.007000</td>\n    </tr>\n    <tr>\n      <th>max</th>\n      <td>1.000000</td>\n      <td>98.685300</td>\n      <td>1.000000</td>\n      <td>0.900000</td>\n      <td>0.000000</td>\n    </tr>\n  </tbody>\n</table>\n</div>"
     },
     "execution_count": 6,
     "metadata": {},
     "output_type": "execute_result"
    }
   ],
   "source": [
    "df.describe()\n",
    "#print(df[58:116])"
   ],
   "metadata": {
    "collapsed": false,
    "pycharm": {
     "name": "#%%\n"
    }
   }
  },
  {
   "cell_type": "code",
   "execution_count": 7,
   "outputs": [],
   "source": [
    "column_indices = {name: i for i, name in enumerate(df.columns)}\n",
    "\n",
    "n = len(df)\n",
    "train_df = df[0:int(n*0.7)]\n",
    "val_df = df[int(n*0.7):int(n*0.9)]\n",
    "test_df = df[int(n*0.9):]\n",
    "\n",
    "num_features = df.shape[1]"
   ],
   "metadata": {
    "collapsed": false,
    "pycharm": {
     "name": "#%%\n"
    }
   }
  },
  {
   "cell_type": "markdown",
   "source": [
    "### 1. Indexes and offsets\n",
    "Start by creating the WindowGenerator class. The `__init__` method includes all the necessary logic for the input and label indices.\n",
    "\n",
    "It also takes the train, eval, and test dataframes as input. These will be converted to `tf.data.Datasets` of windows later."
   ],
   "metadata": {
    "collapsed": false,
    "pycharm": {
     "name": "#%% md\n"
    }
   }
  },
  {
   "cell_type": "markdown",
   "source": [
    "#### Window information"
   ],
   "metadata": {
    "collapsed": false,
    "pycharm": {
     "name": "#%% md\n"
    }
   }
  },
  {
   "cell_type": "code",
   "execution_count": 8,
   "outputs": [
    {
     "data": {
      "text/plain": "Total window size: 4\nInput indices: [0 1 2]\nLabel indices: [3]\nLabel column name(s): ['FlowHt']"
     },
     "execution_count": 8,
     "metadata": {},
     "output_type": "execute_result"
    }
   ],
   "source": [
    "w1 = Class_t.WindowGenerator(input_width=3, label_width=1, shift=1,\n",
    "    train_df=train_df, val_df=val_df, test_df=test_df, label_columns=['FlowHt'])\n",
    "w1"
   ],
   "metadata": {
    "collapsed": false,
    "pycharm": {
     "name": "#%%\n"
    }
   }
  },
  {
   "cell_type": "markdown",
   "source": [
    "### 2. Split\n",
    "Given a list consecutive inputs, the `split_window` method will convert them to a window of inputs and a window of labels.\n",
    "#### Example window\n",
    "#### Window Shape"
   ],
   "metadata": {
    "collapsed": false
   }
  },
  {
   "cell_type": "code",
   "execution_count": 9,
   "outputs": [
    {
     "name": "stdout",
     "output_type": "stream",
     "text": [
      "All shapes are: (batch, time, features)\n",
      "Window shape: (3, 4, 5)\n",
      "Inputs shape: (3, 3, 5)\n",
      "labels shape: (3, 1, 1)\n"
     ]
    }
   ],
   "source": [
    "# Stack three slices, the length of the total window:\n",
    "example_window = tf.stack([np.array(train_df[:w1.total_window_size]),\n",
    "                           np.array(train_df[58:58+w1.total_window_size]),\n",
    "                           np.array(train_df[116:116+w1.total_window_size])])\n",
    "\n",
    "\n",
    "example_inputs, example_labels = w1.split_window(example_window)\n",
    "\n",
    "print('All shapes are: (batch, time, features)')\n",
    "print(f'Window shape: {example_window.shape}')\n",
    "print(f'Inputs shape: {example_inputs.shape}')\n",
    "print(f'labels shape: {example_labels.shape}')\n",
    "\n",
    "\n"
   ],
   "metadata": {
    "collapsed": false,
    "pycharm": {
     "name": "#%%\n"
    }
   }
  },
  {
   "cell_type": "markdown",
   "source": [
    "Typically data in TensorFlow is packed into arrays where the outermost index is across examples (the \"batch\" dimension). The middle indices are the \"time\" or \"space\" (width, height) dimension(s). The innermost indices are the features."
   ],
   "metadata": {
    "collapsed": false,
    "pycharm": {
     "name": "#%% md\n"
    }
   }
  },
  {
   "cell_type": "markdown",
   "source": [
    "### 3. Plot"
   ],
   "metadata": {
    "collapsed": false,
    "pycharm": {
     "name": "#%% md\n"
    }
   }
  },
  {
   "cell_type": "code",
   "execution_count": 10,
   "outputs": [
    {
     "data": {
      "text/plain": "<Figure size 864x576 with 3 Axes>",
      "image/png": "[encoded data removed]"
     },
     "metadata": {
      "needs_background": "light"
     },
     "output_type": "display_data"
    }
   ],
   "source": [
    "w1.plot()"
   ],
   "metadata": {
    "collapsed": false,
    "pycharm": {
     "name": "#%%\n"
    }
   }
  },
  {
   "cell_type": "markdown",
   "source": [
    "### 4. Create `tf.data.Dataset`\n",
    "Finally this `make_dataset` method will take a time series `DataFrame` and\n",
    "convert it to a `tf.data.Dataset` of (`input_window`, `label_window`) pairs using\n",
    "the `preprocessing.timeseries_dataset_from_array` function.\n",
    "\n",
    "The `WindowGenerator` object holds training, validation and test data.\n",
    "Add properties for accessing them as `tf.data.Datasets` using the above `make_dataset` method.\n",
    "Also add a standard example batch for easy access and plotting:\n",
    "Now the WindowGenerator object gives you access to the `tf.data.Dataset` objects,\n",
    "so you can easily iterate over the data.\n",
    "The `Dataset.element_spe`c property tells you the structure, `dtypes` and shapes of the dataset elements.\n"
   ],
   "metadata": {
    "collapsed": false
   }
  },
  {
   "cell_type": "code",
   "execution_count": 11,
   "outputs": [
    {
     "data": {
      "text/plain": "(TensorSpec(shape=(None, 3, 5), dtype=tf.float32, name=None),\n TensorSpec(shape=(None, 1, 1), dtype=tf.float32, name=None))"
     },
     "execution_count": 11,
     "metadata": {},
     "output_type": "execute_result"
    }
   ],
   "source": [
    "# Each element is an (inputs, label) pair\n",
    "w1.train.element_spec"
   ],
   "metadata": {
    "collapsed": false,
    "pycharm": {
     "name": "#%%\n"
    }
   }
  },
  {
   "cell_type": "code",
   "execution_count": 12,
   "outputs": [
    {
     "name": "stdout",
     "output_type": "stream",
     "text": [
      "Inputs shape (batch, time, features): (16, 3, 5)\n",
      "Labels shape (batch, time, features): (16, 1, 1)\n"
     ]
    }
   ],
   "source": [
    "for example_inputs, example_labels in w1.train.take(1):\n",
    "  print(f'Inputs shape (batch, time, features): {example_inputs.shape}')\n",
    "  print(f'Labels shape (batch, time, features): {example_labels.shape}')"
   ],
   "metadata": {
    "collapsed": false,
    "pycharm": {
     "name": "#%%\n"
    }
   }
  },
  {
   "cell_type": "code",
   "execution_count": 13,
   "outputs": [
    {
     "name": "stdout",
     "output_type": "stream",
     "text": [
      "i= 0  Inputs shape (batch, time, features): (16, 3, 5)\n",
      "      Labels shape (batch, time, features): (16, 1, 1)\n",
      "i= 1  Inputs shape (batch, time, features): (16, 3, 5)\n",
      "      Labels shape (batch, time, features): (16, 1, 1)\n"
     ]
    }
   ],
   "source": [
    "ds = w1.train\n",
    "for i, batch in enumerate(ds):\n",
    "  if i < 2 :\n",
    "    example_inputs, example_labels = batch\n",
    "    print(f'i= {i} ',f'Inputs shape (batch, time, features): {example_inputs.shape}')\n",
    "    print(f'      Labels shape (batch, time, features): {example_labels.shape}')\n",
    "  else: break"
   ],
   "metadata": {
    "collapsed": false,
    "pycharm": {
     "name": "#%%\n"
    }
   }
  },
  {
   "cell_type": "markdown",
   "source": [
    "#### Mapping"
   ],
   "metadata": {
    "collapsed": false,
    "pycharm": {
     "name": "#%% md\n"
    }
   }
  },
  {
   "cell_type": "code",
   "execution_count": 14,
   "outputs": [
    {
     "name": "stdout",
     "output_type": "stream",
     "text": [
      "*** f1 = [1 2 3 4 5]\n",
      "*** f2 = [6]\n",
      "*** f1 = [12 13 14 15 16]\n",
      "*** f2 = [17]\n",
      "*** f1 = [23 24 25 26 27]\n",
      "*** f2 = [28]\n"
     ]
    }
   ],
   "source": [
    "######################################################### mapping tf dataset\n",
    "import numpy as np\n",
    "import tensorflow as tf\n",
    "# MAP\n",
    "#x = np.array([[1],[2],[3],[4],[5],[6],[7] ])\n",
    "x = np.array([[1,2,3,4,5,6],[12,13,14,15,16,17],[23,24,25,26,27,28]])\n",
    "\n",
    "#x = np.array([1, 2,3,4,5,6,7,8 ])\n",
    "#x =np.array([  [  [1, 2, 3],\n",
    "#                  [2, 3, 4],\n",
    "#                  [3, 4, 5]],\n",
    "#                            [[11, 12, 13],\n",
    "#                             [12, 13, 14],\n",
    " #                            [13, 14, 15]   ],\n",
    " #            [[21, 22, 23],[22, 23, 24],[23, 24, 25]],\n",
    "  #            [[31, 32, 33],[32, 33, 34],[33, 34, 35]]\n",
    "   #         ])\n",
    "#y = np.array([ [5],[6],[7]])\n",
    "# make a dataset from a numpy array\n",
    "dataset = tf.data.Dataset.from_tensor_slices(x)\n",
    "\n",
    "def map_fn(features  ):\n",
    "#  f1 = fea[0:5]\n",
    "  f1 = features[slice1]\n",
    "  f2 = features[slice2]\n",
    "  return f1, f2\n",
    "#dataset = dataset.map(lambda x: x*2)\n",
    "#xslice = slice(0,6,1)\n",
    "slice1 = slice(0,5,1)  # 1D only\n",
    "slice2 = slice(5,6,1)\n",
    "\n",
    "dataset = dataset.map(map_fn)\n",
    "\n",
    "for batch in dataset:\n",
    "    f1, f2 = batch\n",
    "    print(f'*** f1 = {f1}')\n",
    "    print(f'*** f2 = {f2}')"
   ],
   "metadata": {
    "collapsed": false,
    "pycharm": {
     "name": "#%%\n"
    }
   }
  },
  {
   "cell_type": "code",
   "execution_count": 15,
   "outputs": [
    {
     "data": {
      "text/plain": "(3, 6)"
     },
     "execution_count": 15,
     "metadata": {},
     "output_type": "execute_result"
    }
   ],
   "source": [
    "x.shape"
   ],
   "metadata": {
    "collapsed": false,
    "pycharm": {
     "name": "#%%\n"
    }
   }
  },
  {
   "cell_type": "code",
   "execution_count": 16,
   "outputs": [
    {
     "name": "stdout",
     "output_type": "stream",
     "text": [
      "tf.Tensor(\n",
      "[[12 13 14 15]\n",
      " [23 24 25 26]], shape=(2, 4), dtype=int32)\n"
     ]
    }
   ],
   "source": [
    "print(tf.slice(x, [1,0 ], [2, 4]))"
   ],
   "metadata": {
    "collapsed": false,
    "pycharm": {
     "name": "#%%\n"
    }
   }
  },
  {
   "cell_type": "code",
   "execution_count": 17,
   "outputs": [
    {
     "name": "stdout",
     "output_type": "stream",
     "text": [
      "tf.Tensor(\n",
      "[[[1 1 1]\n",
      "  [2 2 2]]\n",
      "\n",
      " [[3 3 3]\n",
      "  [4 4 4]]\n",
      "\n",
      " [[5 5 5]\n",
      "  [6 6 6]]], shape=(3, 2, 3), dtype=int32)\n",
      "tf.Tensor([[[3 3 3]]], shape=(1, 1, 3), dtype=int32)\n",
      "tf.Tensor(\n",
      "[[[3 3 3]\n",
      "  [4 4 4]]], shape=(1, 2, 3), dtype=int32)\n",
      "tf.Tensor(\n",
      "[[[3 3 3]]\n",
      "\n",
      " [[5 5 5]]], shape=(2, 1, 3), dtype=int32)\n"
     ]
    }
   ],
   "source": [
    "t = tf.constant([[[1, 1, 1], [2, 2, 2]],\n",
    "                 [[3, 3, 3], [4, 4, 4]],\n",
    "                 [[5, 5, 5], [6, 6, 6]]])\n",
    "print(t)\n",
    "print(tf.slice(t, [1, 0, 0], [1, 1, 3]))  # [[[3, 3, 3]]]\n",
    "print(tf.slice(t, [1, 0, 0], [1, 2, 3]))  # [[[3, 3, 3],\n",
    "                                   #   [4, 4, 4]]]\n",
    "print(tf.slice(t, [1, 0, 0], [2, 1, 3]))  # [[[3, 3, 3]],\n",
    "                                   #  [[5, 5, 5]]]"
   ],
   "metadata": {
    "collapsed": false,
    "pycharm": {
     "name": "#%%\n"
    }
   }
  },
  {
   "cell_type": "code",
   "execution_count": 18,
   "outputs": [
    {
     "name": "stdout",
     "output_type": "stream",
     "text": [
      "1\n",
      "slice(1, 2, None)\n",
      "slice(1, 2, 5)\n"
     ]
    }
   ],
   "source": [
    "class A:\n",
    "    def __getitem__(self, item):\n",
    "        print(repr(item))\n",
    "\n",
    "a = A()\n",
    "\n",
    "a[1]\n",
    "a[1:2]\n",
    "a[1:2:5]"
   ],
   "metadata": {
    "collapsed": false,
    "pycharm": {
     "name": "#%%\n"
    }
   }
  },
  {
   "cell_type": "markdown",
   "source": [
    "#### conv_window"
   ],
   "metadata": {
    "collapsed": false,
    "pycharm": {
     "name": "#%% md\n"
    }
   }
  },
  {
   "cell_type": "code",
   "execution_count": 19,
   "outputs": [
    {
     "data": {
      "text/plain": "Total window size: 4\nInput indices: [0 1 2]\nLabel indices: [3]\nLabel column name(s): ['FlowHt']"
     },
     "execution_count": 19,
     "metadata": {},
     "output_type": "execute_result"
    }
   ],
   "source": [
    "CONV_WIDTH = 3\n",
    "conv_window = Class_t.WindowGenerator(\n",
    "    input_width=CONV_WIDTH,\n",
    "    label_width=1,\n",
    "    shift=1,\n",
    "        train_df=train_df, val_df=val_df, test_df=test_df,\n",
    "    label_columns=['FlowHt'])\n",
    "\n",
    "conv_window\n",
    "\n",
    "conv_window_t = Class_t.WinGen(\n",
    "    input_width=CONV_WIDTH,\n",
    "    label_width=1,\n",
    "    shift=1,\n",
    "        train_df=train_df, val_df=val_df, test_df=test_df,\n",
    "    label_columns=['FlowHt'])\n",
    "\n",
    "conv_window_t"
   ],
   "metadata": {
    "collapsed": false,
    "pycharm": {
     "name": "#%%\n"
    }
   }
  },
  {
   "cell_type": "code",
   "execution_count": 20,
   "outputs": [
    {
     "data": {
      "text/plain": "Total window size: 11\nInput indices: [0 1 2 3 4 5 6 7 8 9]\nLabel indices: [ 3  4  5  6  7  8  9 10]\nLabel column name(s): ['FlowHt']"
     },
     "execution_count": 20,
     "metadata": {},
     "output_type": "execute_result"
    }
   ],
   "source": [
    "LABEL_WIDTH = 8\n",
    "INPUT_WIDTH = LABEL_WIDTH + (CONV_WIDTH - 1)\n",
    "\n",
    "wide_conv_window = Class_t.WindowGenerator(\n",
    "    input_width=INPUT_WIDTH,\n",
    "    label_width=LABEL_WIDTH,\n",
    "    shift=1,\n",
    "    train_df=train_df, val_df=val_df, test_df=test_df,\n",
    "    label_columns=['FlowHt'])\n",
    "\n",
    "wide_conv_window"
   ],
   "metadata": {
    "collapsed": false,
    "pycharm": {
     "name": "#%%\n"
    }
   }
  },
  {
   "cell_type": "code",
   "execution_count": null,
   "outputs": [],
   "source": [
    "wide_conv_window_t = Class_t.WinGen(\n",
    "    input_width=INPUT_WIDTH,\n",
    "    label_width=LABEL_WIDTH,\n",
    "    shift=1,\n",
    "    train_df=train_df, val_df=val_df, test_df=test_df,\n",
    "    label_columns=['FlowHt'])\n",
    "\n",
    "wide_conv_window_t"
   ],
   "metadata": {
    "collapsed": false,
    "pycharm": {
     "name": "#%%\n"
    }
   }
  },
  {
   "cell_type": "markdown",
   "source": [
    "### Convolution Model"
   ],
   "metadata": {
    "collapsed": false
   }
  },
  {
   "cell_type": "code",
   "execution_count": null,
   "outputs": [],
   "source": [
    "conv_model = tf.keras.Sequential([\n",
    "    tf.keras.layers.Conv1D(filters=32,\n",
    "                           kernel_size=(CONV_WIDTH,),\n",
    "                           activation='relu'),\n",
    "    tf.keras.layers.Dense(units=32, activation='relu'),\n",
    "    tf.keras.layers.Dense(units=1),\n",
    "])"
   ],
   "metadata": {
    "collapsed": false,
    "pycharm": {
     "name": "#%%\n"
    }
   }
  },
  {
   "cell_type": "code",
   "execution_count": null,
   "outputs": [],
   "source": [
    "\n",
    "_ = compile.compile_2(conv_model)\n",
    "\n",
    "\n",
    "\n",
    "\n",
    "\n"
   ],
   "metadata": {
    "collapsed": false,
    "pycharm": {
     "name": "#%%\n"
    }
   }
  }
 ],
 "metadata": {
  "kernelspec": {
   "display_name": "Python 3",
   "language": "python",
   "name": "python3"
  },
  "language_info": {
   "codemirror_mode": {
    "name": "ipython",
    "version": 2
   },
   "file_extension": ".py",
   "mimetype": "text/x-python",
   "name": "python",
   "nbconvert_exporter": "python",
   "pygments_lexer": "ipython2",
   "version": "2.7.6"
  }
 },
 "nbformat": 4,
 "nbformat_minor": 0
}