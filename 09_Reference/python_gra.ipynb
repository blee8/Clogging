{
 "cells": [
  {
   "cell_type": "markdown",
   "source": [
    "# Python Grammar\n"
   ],
   "metadata": {
    "collapsed": false
   }
  },
  {
   "cell_type": "code",
   "execution_count": 2,
   "outputs": [
    {
     "name": "stdout",
     "output_type": "stream",
     "text": [
      "IPython 버전: 7.18.1\n"
     ]
    }
   ],
   "source": [
    "import os\n",
    "import datetime\n",
    "\n",
    "import IPython\n",
    "import IPython.display\n",
    "import matplotlib as mpl\n",
    "import matplotlib.pyplot as plt\n",
    "import numpy as np\n",
    "import pandas as pd\n",
    "import seaborn as sns\n",
    "import tensorflow as tf\n",
    "\n",
    "mpl.rcParams['figure.figsize'] = (8, 6)\n",
    "mpl.rcParams['axes.grid'] = False\n",
    "\n",
    "\n",
    "import os\n",
    "import mglearn\n",
    "\n",
    "tf.executing_eagerly()\n",
    "\n",
    "\n",
    "print(\"IPython 버전:\", IPython.__version__)"
   ],
   "metadata": {
    "collapsed": false,
    "pycharm": {
     "name": "#%%\n"
    }
   }
  },
  {
   "cell_type": "markdown",
   "source": [
    "## define np.array; for loop, enumerate"
   ],
   "metadata": {
    "collapsed": false
   }
  },
  {
   "cell_type": "code",
   "execution_count": 3,
   "outputs": [
    {
     "name": "stdout",
     "output_type": "stream",
     "text": [
      "0 [1 2 3]\n",
      "1 [4.5 6. ]\n",
      "2 [7 8 9]\n"
     ]
    }
   ],
   "source": [
    "a = np.array([1,2,3])\n",
    "b =np.array( [4.5,6])\n",
    "c = np.array([7,8,9])\n",
    "dataset =np.array([a,b,c])\n",
    "#print(dataset)\n",
    "for i, x in enumerate(dataset) :\n",
    "    print (i, x)"
   ],
   "metadata": {
    "collapsed": false,
    "pycharm": {
     "name": "#%%\n"
    }
   }
  },
  {
   "cell_type": "code",
   "execution_count": 4,
   "outputs": [
    {
     "name": "stdout",
     "output_type": "stream",
     "text": [
      "1번 학생 축하합니다. 합격입니다. \n",
      "3번 학생 축하합니다. 합격입니다. \n",
      "5번 학생 축하합니다. 합격입니다. \n"
     ]
    }
   ],
   "source": [
    "marks = [90, 25, 67, 45, 80]\n",
    "\n",
    "number = 0\n",
    "for mark in marks:\n",
    "    number = number +1\n",
    "    if mark < 60:\n",
    "        continue\n",
    "    print(\"%d번 학생 축하합니다. 합격입니다. \" % number)"
   ],
   "metadata": {
    "collapsed": false,
    "pycharm": {
     "name": "#%%\n"
    }
   }
  },
  {
   "cell_type": "code",
   "execution_count": 5,
   "outputs": [
    {
     "data": {
      "text/plain": "[111, 222, 333, 111, 222, 333, 111, 222, 333]"
     },
     "execution_count": 5,
     "metadata": {},
     "output_type": "execute_result"
    }
   ],
   "source": [
    "import numpy as np\n",
    "\n",
    "a1 = [111, 222, 333]\n",
    "a2 = np.array([111,222,333])\n",
    "[3*x for x in a1]\n",
    "a2*3\n",
    "a1*3\n"
   ],
   "metadata": {
    "collapsed": false,
    "pycharm": {
     "name": "#%%\n"
    }
   }
  },
  {
   "cell_type": "markdown",
   "source": [
    "`for 변수 in 리스트(또는 튜플, 문자열):`\n",
    "\n",
    "    수행할 문장1\n",
    "    수행할 문장2\n",
    "    ...`"
   ],
   "metadata": {
    "collapsed": false,
    "pycharm": {
     "name": "#%% md\n"
    }
   }
  },
  {
   "cell_type": "code",
   "execution_count": 6,
   "outputs": [
    {
     "name": "stdout",
     "output_type": "stream",
     "text": [
      "one\n",
      "two\n",
      "three\n",
      "3\n",
      "7\n",
      "11\n"
     ]
    }
   ],
   "source": [
    "test_list = ['one', 'two', 'three']\n",
    "for i in test_list:\n",
    "    print(i)\n",
    "\n",
    "a = [(1,2), (3,4), (5,6)]\n",
    "for (first, last) in a:\n",
    "      print(first + last)"
   ],
   "metadata": {
    "collapsed": false,
    "pycharm": {
     "name": "#%%\n"
    }
   }
  },
  {
   "cell_type": "code",
   "execution_count": 7,
   "outputs": [
    {
     "name": "stdout",
     "output_type": "stream",
     "text": [
      "1\n",
      "3\n",
      "6\n",
      "10\n",
      "15\n",
      "21\n",
      "28\n",
      "36\n",
      "45\n",
      "55\n"
     ]
    }
   ],
   "source": [
    "add = 0\n",
    "for i in range(1, 11):\n",
    "    add = add + i\n",
    "    print(add)"
   ],
   "metadata": {
    "collapsed": false,
    "pycharm": {
     "name": "#%%\n"
    }
   }
  },
  {
   "cell_type": "code",
   "execution_count": 8,
   "outputs": [
    {
     "name": "stdout",
     "output_type": "stream",
     "text": [
      "1번 학생 축하합니다. 합격입니다.\n",
      "3번 학생 축하합니다. 합격입니다.\n",
      "5번 학생 축하합니다. 합격입니다.\n"
     ]
    }
   ],
   "source": [
    "marks = [90, 25, 67, 45, 80]\n",
    "for number in range(len(marks)):\n",
    "    if marks[number] < 60:\n",
    "        continue\n",
    "    print(\"%d번 학생 축하합니다. 합격입니다.\" % (number+1))"
   ],
   "metadata": {
    "collapsed": false,
    "pycharm": {
     "name": "#%%\n"
    }
   }
  },
  {
   "cell_type": "code",
   "execution_count": 9,
   "outputs": [
    {
     "name": "stdout",
     "output_type": "stream",
     "text": [
      "[3, 6, 9, 12]\n"
     ]
    }
   ],
   "source": [
    "a = [1,2,3,4]\n",
    "result = [num * 3 for num in a]\n",
    "print(result)"
   ],
   "metadata": {
    "collapsed": false,
    "pycharm": {
     "name": "#%%\n"
    }
   }
  },
  {
   "cell_type": "code",
   "execution_count": 10,
   "outputs": [
    {
     "name": "stdout",
     "output_type": "stream",
     "text": [
      "[6, 12]\n"
     ]
    }
   ],
   "source": [
    "a = [1,2,3,4]\n",
    "result = [num * 3 for num in a if num % 2 == 0]\n",
    "print(result)"
   ],
   "metadata": {
    "collapsed": false,
    "pycharm": {
     "name": "#%%\n"
    }
   }
  },
  {
   "cell_type": "markdown",
   "source": [
    "## matplotlib"
   ],
   "metadata": {
    "collapsed": false
   }
  },
  {
   "cell_type": "code",
   "execution_count": 11,
   "outputs": [
    {
     "ename": "NameError",
     "evalue": "name 'df' is not defined",
     "output_type": "error",
     "traceback": [
      "\u001B[1;31m---------------------------------------------------------------------------\u001B[0m",
      "\u001B[1;31mNameError\u001B[0m                                 Traceback (most recent call last)",
      "\u001B[1;32m<ipython-input-11-1b27edd85319>\u001B[0m in \u001B[0;36m<module>\u001B[1;34m\u001B[0m\n\u001B[1;32m----> 1\u001B[1;33m \u001B[0mdf_pop\u001B[0m \u001B[1;33m=\u001B[0m \u001B[0mdf\u001B[0m\u001B[1;33m.\u001B[0m\u001B[0mcopy\u001B[0m\u001B[1;33m(\u001B[0m\u001B[1;33m)\u001B[0m\u001B[1;33m\u001B[0m\u001B[1;33m\u001B[0m\u001B[0m\n\u001B[0m\u001B[0;32m      2\u001B[0m \u001B[0mIR\u001B[0m \u001B[1;33m=\u001B[0m  \u001B[0mdf_pop\u001B[0m\u001B[1;33m.\u001B[0m\u001B[0mpop\u001B[0m\u001B[1;33m(\u001B[0m\u001B[1;34m'IR'\u001B[0m\u001B[1;33m)\u001B[0m\u001B[1;33m\u001B[0m\u001B[1;33m\u001B[0m\u001B[0m\n\u001B[0;32m      3\u001B[0m \u001B[0mdf2\u001B[0m \u001B[1;33m=\u001B[0m \u001B[0mdf\u001B[0m\u001B[1;33m.\u001B[0m\u001B[0mcopy\u001B[0m\u001B[1;33m(\u001B[0m\u001B[1;33m)\u001B[0m\u001B[1;33m\u001B[0m\u001B[1;33m\u001B[0m\u001B[0m\n\u001B[0;32m      4\u001B[0m \u001B[1;33m\u001B[0m\u001B[0m\n",
      "\u001B[1;31mNameError\u001B[0m: name 'df' is not defined"
     ]
    }
   ],
   "source": [
    "df_pop = df.copy()\n",
    "IR =  df_pop.pop('IR')\n",
    "df2 = df.copy()"
   ],
   "metadata": {
    "collapsed": false,
    "pycharm": {
     "name": "#%%\n"
    }
   }
  },
  {
   "cell_type": "code",
   "execution_count": null,
   "outputs": [],
   "source": [
    "plot_cols = ['FlowHt']\n",
    "plot_features = df[plot_cols]\n",
    "plot_features.index = IR\n",
    "_ = plot_features.plot( linestyle = 'None', marker = '.', subplots=True, figsize=(10,3))\n",
    "plt.xlim([plt.xlim()[1], 0])"
   ],
   "metadata": {
    "collapsed": false,
    "pycharm": {
     "name": "#%%\n"
    }
   }
  },
  {
   "cell_type": "code",
   "execution_count": null,
   "outputs": [],
   "source": [
    "plt.figure(figsize=(16, 4))\n",
    "\n",
    "plt.plot(df2.iloc[0:24,0], df2.iloc[0:24,1], 'g-')\n",
    "plt.xlabel('norm IR')\n",
    "plt.ylabel('Flow Height [m]')\n",
    "#plt.axis('equal')\n",
    "#plt.axis('square')\n",
    "plt.xlim([plt.xlim()[1], 0])\n",
    "#plt.ylim([0,plt.ylim()[1]])\n",
    "#_ = plt.plot([-100, 100], [-100, 100])"
   ],
   "metadata": {
    "collapsed": false,
    "pycharm": {
     "name": "#%%\n"
    }
   }
  },
  {
   "cell_type": "code",
   "execution_count": null,
   "outputs": [],
   "source": [
    "ax = df.plot(kind=\"scatter\", x=\"IR\", y=\"FlowHt\", figsize=(10,3))\n",
    "ax.invert_xaxis()\n"
   ],
   "metadata": {
    "collapsed": false,
    "pycharm": {
     "name": "#%%\n"
    }
   }
  },
  {
   "cell_type": "code",
   "execution_count": null,
   "outputs": [],
   "source": [
    "plt.figure(figsize=(16, 4))\n",
    "plt.margins(0.4, 0.4)\n",
    "for x in range(0, 8):\n",
    "    for y in range(0, 4):\n",
    "        plt.scatter(x, y, c='b')\n",
    "        plt.text(x+0.1, y, \"point({}, {})\".format(x, y), fontsize=10)\n",
    "        # Create random data\n",
    "x = np.arange(0,20)\n",
    "y1 = np.random.randint(0,10, 20)\n",
    "y2 = np.random.randint(0,10, 20) + 15\n",
    "\n",
    "# Create figure\n",
    "\n",
    "fig, (ax1,ax2) = plt.subplots(nrows=2, ncols=1, figsize = (12,7), tight_layout = True)\n",
    "\n",
    "font = {'family': 'serif','color' : 'black','weight': 'normal',\n",
    "        'size' :  20}\n",
    "# Add subplots\n",
    "ax1.margins(0. )\n",
    "\n",
    "\n",
    "\n",
    "ax1.plot(x, y1)\n",
    "ax1.plot(x, y2)\n",
    "ax2.plot(x, y1)\n",
    "ax2.plot(x, y2)\n",
    "\n",
    "# Show texts\n",
    "ax1.text(0.1, 0.5, 'Begin text', horizontalalignment='center', verticalalignment='center', transform=ax1.transAxes)\n",
    "ax2.text(0.9, 0.5, 'End text', horizontalalignment='center', verticalalignment='center', transform=ax2.transAxes)\n",
    "ax1.text(1, 10, \"point({}, {})\".format(x, y), fontsize=10)\n",
    "\n",
    "ax1.legend()\n",
    "plt.show()"
   ],
   "metadata": {
    "collapsed": false,
    "pycharm": {
     "name": "#%%\n"
    }
   }
  },
  {
   "cell_type": "code",
   "execution_count": null,
   "outputs": [],
   "source": [
    "# Method 1 : Pyplot API(커맨드 방식)를 이용하는 방식\n",
    "import matplotlib.pyplot as plt\n",
    "import numpy as np\n",
    "\n",
    "x = np.linspace(0,1,50)\n",
    "y1 = np.cos(4*np.pi*x)\n",
    "y2 = np.cos(4*np.pi*x)*np.exp(-2*x)\n",
    "plt.figure(figsize=(16, 4))\n",
    "\n",
    "plt.plot(x,y1,'r-*',lw=1)\n",
    "plt.plot(x,y2,'b--',lw=1)"
   ],
   "metadata": {
    "collapsed": false,
    "pycharm": {
     "name": "#%%\n"
    }
   }
  },
  {
   "cell_type": "code",
   "execution_count": null,
   "outputs": [],
   "source": [
    "# Method 2 :객체지향 API를 이용하는 방식것이다.\n",
    "x = np.linspace(0,1,50)\n",
    "y1 = np.cos(4*np.pi*x)\n",
    "y2 = np.cos(4*np.pi*x)*np.exp(-2*x)\n",
    "\n",
    "fig = plt.figure(figsize=(16, 4))   # 직접 Figure 객체를 생성\n",
    "ax = fig.subplots()   # 직접 axes를 생성\n",
    "ax.plot(x,y1,'r-*',lw=1)    # 생성된 axes에 대한 plot() 멤버 직접 호출\n",
    "ax.plot(x,y2,'b--',lw=1)"
   ],
   "metadata": {
    "collapsed": false,
    "pycharm": {
     "name": "#%%\n"
    }
   }
  },
  {
   "cell_type": "code",
   "execution_count": null,
   "outputs": [],
   "source": [
    "  markers = [\"o\", \"s\", \"D\", \"h\"]\n",
    "  colors = [\"red\", \"green\", \"blue\", \"cyan\", \"m\", 'y', 'k', 'w']\n",
    "\n",
    "#Method 3 :이 둘을 조합하여 Figure와 Axes를 plt.subpolots()라는 편의 함수를 사용한 것이다.\n",
    "x = np.linspace(0,1,50)\n",
    "y1 = np.cos(4*np.pi*x)\n",
    "y2 = np.cos(4*np.pi*x)*np.exp(-2*x)\n",
    "\n",
    "fig,ax = plt.subplots(figsize=(16, 4))  # plt.subplots() 편의 함수는 Figure 객체를 생성하고 Figure.subplots()를 호출하여 리턴\n",
    "#ax.plot(x,y1,'r-*',lw=1, )\n",
    "#ax.plot(x,y2,'b--',lw=1)\n",
    "ax.plot(x,y1, color=colors[6], marker=markers[2], linestyle='dashed',\n",
    "     linewidth=2, markersize=12 )\n",
    "#ax.plot(x,y2,'b--', color='green', marker=markers[1], linestyle='dashed',\n",
    "#     linewidth=2, markersize=12)\n",
    "ax.scatter(x,y2,marker = 'o', edgecolor = 'red', facecolors='g', s=150,\n",
    "                                label='Labels' )\n",
    "\n",
    "#ax3.scatter(predictions[n, :, label_col_index], labels[n, :, label_col_index],\n",
    "#                                  marker='.', facecolors='none', edgecolors='b')\n",
    "#color = colors[labels[j]], marker = markers[y[j]], s = 40, cmap = 'viridis'"
   ],
   "metadata": {
    "collapsed": false,
    "pycharm": {
     "name": "#%%\n"
    }
   }
  },
  {
   "cell_type": "code",
   "execution_count": null,
   "outputs": [],
   "source": [
    "import numpy as np\n",
    "import matplotlib.pyplot as plt\n",
    "\n",
    "x=np.linspace(0,5,50)\n",
    "y=np.sin(2 * np.pi * x)\n",
    "\n",
    "plt.scatter(x,y,color='b',zorder=2)\n",
    "plt.plot(x,y, 'r-', zorder=1.5)\n",
    "\n",
    "plt.title(\"Connected Scatterplot points with line\")\n",
    "plt.xlabel(\"x\")\n",
    "plt.ylabel(\"sinx\")\n",
    "\n",
    "plt.show()"
   ],
   "metadata": {
    "collapsed": false,
    "pycharm": {
     "name": "#%%\n"
    }
   }
  },
  {
   "cell_type": "code",
   "execution_count": null,
   "outputs": [],
   "source": [
    "dataset = single_step_window_t.train\n",
    "for i, batch in enumerate(dataset) :\n",
    "    inputs, labels, lab = batch\n",
    "\n",
    "    plt.scatter(lab[:,:,0], labels[:, :, 0],\n",
    "               edgecolors = 'g', c = '#2ca02c', s = 25, zorder = 2 )\n",
    "    plt.plot(lab[:,:,0], labels[:, :, 0], 'r-', zorder=1.5 )"
   ],
   "metadata": {
    "collapsed": false,
    "pycharm": {
     "name": "#%%\n"
    }
   }
  },
  {
   "cell_type": "code",
   "execution_count": 4,
   "outputs": [
    {
     "data": {
      "text/plain": "<Figure size 432x288 with 1 Axes>",
      "image/png": "[encoded data removed]"
     },
     "metadata": {
      "needs_background": "light"
     },
     "output_type": "display_data"
    }
   ],
   "source": [
    "import numpy as np\n",
    "import matplotlib.pyplot as plt\n",
    "def y(o):\n",
    "    return np.sin(o / 2.) * np.exp(o / 4.) + 6. * np.exp(-o / 4.)\n",
    "def h(b):\n",
    "    l = []\n",
    "    for i in b:\n",
    "        l.append(int(y(i)))\n",
    "    return l\n",
    "rr = np.arange(-5, 15, 2)\n",
    "rr = np.array(rr)\n",
    "l = h(rr)\n",
    "plt.plot(rr, h(rr))\n",
    "plt.show()"
   ],
   "metadata": {
    "collapsed": false,
    "pycharm": {
     "name": "#%%\n"
    }
   }
  },
  {
   "cell_type": "code",
   "execution_count": null,
   "outputs": [],
   "source": [
    "plt.figure()\n",
    "plt.subplot(1, 1, 1)\n",
    "plt.plot([1, 2, 3, 4])\n",
    "plt.ylabel('some numbers')"
   ],
   "metadata": {
    "collapsed": false,
    "pycharm": {
     "name": "#%%\n"
    }
   }
  },
  {
   "cell_type": "code",
   "execution_count": null,
   "outputs": [],
   "source": [
    "def figfun ():\n",
    "    fig = plt.figure()  # create a figure object\n",
    "    fig2 = plt.figure()  # create a figure object\n",
    "    ax = fig.add_subplot(1, 1, 1)  # create an axes object in the figure\n",
    "    ax2 = fig2.add_subplot(1, 1, 1)  # create an axes object in the figure\n",
    "    ax.plot([1, 2, 3, 4])\n",
    "    ax2.plot([1, 3, 2, 4])\n",
    "    ax.set_ylabel('some numbers')\n",
    "    return ax, ax2\n",
    "\n",
    "ax, ax2 = figfun()\n",
    "\n",
    "ax.plot([6, 8])\n",
    "plt.gca().set_title('Curve 00')\n",
    "plt.gca().plot([5,1])"
   ],
   "metadata": {
    "collapsed": false,
    "pycharm": {
     "name": "#%%\n"
    }
   }
  },
  {
   "cell_type": "markdown",
   "source": [
    "## format"
   ],
   "metadata": {
    "collapsed": false,
    "pycharm": {
     "name": "#%% md\n"
    }
   }
  },
  {
   "cell_type": "code",
   "source": [
    "x=2\n",
    "y =1\n",
    "plt.text(1, y, \"point({}, {})\".format(x, y), fontsize=10)"
   ],
   "metadata": {
    "collapsed": false,
    "pycharm": {
     "name": "#%%\n"
    }
   },
   "execution_count": null,
   "outputs": []
  },
  {
   "cell_type": "code",
   "execution_count": null,
   "outputs": [],
   "source": [
    "print(f'Inputs shape (batch, time, features): {example_inputs.shape}')"
   ],
   "metadata": {
    "collapsed": false,
    "pycharm": {
     "name": "#%%\n"
    }
   }
  },
  {
   "cell_type": "code",
   "execution_count": null,
   "outputs": [],
   "source": [
    "name = 'Lee'\n",
    "curve = 'curve0'\n",
    "i =100\n",
    "\n",
    "value = np.array([3, 4, 5])\n",
    "print(f'{name:15s}: {value[1]:0.4f}')\n",
    "\n",
    "print(f'{curve:15s}: i = {i}')"
   ],
   "metadata": {
    "collapsed": false,
    "pycharm": {
     "name": "#%%\n"
    }
   }
  },
  {
   "cell_type": "markdown",
   "source": [
    "## Dictionary"
   ],
   "metadata": {
    "collapsed": false
   }
  },
  {
   "cell_type": "code",
   "execution_count": null,
   "outputs": [],
   "source": [
    "scores = {\"철수\": [90, 10], \"민수\": [85, 20], \"영희\": [80, 50, 30]}\n",
    "scores[\"민수\"] = [85, 30]   # 수정\n",
    "scores[\"길동\"] =  [80, 20]  # 추가\n",
    "del scores[\"영희\"]\n",
    "print(scores)\n"
   ],
   "metadata": {
    "collapsed": false,
    "pycharm": {
     "name": "#%%\n"
    }
   }
  },
  {
   "cell_type": "code",
   "execution_count": null,
   "outputs": [],
   "source": [
    "key = 2\n",
    "x = np.array([2,4,5])\n",
    "y = (2,4,5)\n",
    "x = tuple(x)\n",
    "scores[key] = {x}\n",
    "print(scores)"
   ],
   "metadata": {
    "collapsed": false,
    "pycharm": {
     "name": "#%%\n"
    }
   }
  },
  {
   "cell_type": "code",
   "execution_count": null,
   "outputs": [],
   "source": [
    "# 출력 {'철수': 90, '길동': 95, '민수': 88}\n",
    "values = scores.values()\n",
    "values"
   ],
   "metadata": {
    "collapsed": false,
    "pycharm": {
     "name": "#%%\n"
    }
   }
  },
  {
   "cell_type": "code",
   "execution_count": null,
   "outputs": [],
   "source": [
    "keys = \"철수\"\n",
    "[x+100  for x in scores[keys]]"
   ],
   "metadata": {
    "collapsed": false,
    "pycharm": {
     "name": "#%%\n"
    }
   }
  },
  {
   "cell_type": "code",
   "execution_count": null,
   "outputs": [],
   "source": [
    "scores[\"민수\"] +scores[\"민수\"] +scores[\"민수\"]"
   ],
   "metadata": {
    "collapsed": false,
    "pycharm": {
     "name": "#%%\n"
    }
   }
  },
  {
   "cell_type": "code",
   "execution_count": null,
   "outputs": [],
   "source": [
    "scores[\"민수\"][0:2]\n"
   ],
   "metadata": {
    "collapsed": false,
    "pycharm": {
     "name": "#%%\n"
    }
   }
  },
  {
   "cell_type": "code",
   "execution_count": null,
   "outputs": [],
   "source": [
    "a = scores[\"철수\"]\n",
    "len(a)\n",
    "a\n",
    "[3*x for x in a]"
   ],
   "metadata": {
    "collapsed": false,
    "pycharm": {
     "name": "#%%\n"
    }
   }
  },
  {
   "cell_type": "markdown",
   "source": [
    "## Glabal variables"
   ],
   "metadata": {
    "collapsed": false
   }
  },
  {
   "cell_type": "code",
   "execution_count": null,
   "outputs": [],
   "source": [
    "def f():\n",
    "        global s\n",
    "        print(s)\n",
    "        s = \"Only in spring, but Miami is great as well!\"\n",
    "        print(s)\n",
    "s = \"I am looking for a course in New York!\"\n",
    "f()\n",
    "print(s)"
   ],
   "metadata": {
    "collapsed": false,
    "pycharm": {
     "name": "#%%\n"
    }
   }
  },
  {
   "cell_type": "code",
   "execution_count": null,
   "outputs": [],
   "source": [
    "class TestClass():\n",
    "    g_c = 0\n",
    "\n",
    "    def run(self):\n",
    "        for i in range(10):\n",
    "            TestClass.g_c = 1\n",
    "            print(TestClass.g_c)  # or print(self.g_c)\n",
    "\n",
    "t = TestClass()\n",
    "t.run()\n",
    "\n",
    "print(TestClass.g_c)"
   ],
   "metadata": {
    "collapsed": false,
    "pycharm": {
     "name": "#%%\n"
    }
   }
  },
  {
   "cell_type": "code",
   "execution_count": null,
   "outputs": [],
   "source": [
    "g_c = 0\n",
    "\n",
    "class TestClass():\n",
    "    def run(self):\n",
    "         global g_c\n",
    "         for i in range(3):\n",
    "            TestClass.g_c = 1\n",
    "            print(g_c)\n",
    "\n",
    "t = TestClass()\n",
    "t.run()\n",
    "g_c = 2\n",
    "t.run()\n",
    "print (TestClass.g_c)"
   ],
   "metadata": {
    "collapsed": false,
    "pycharm": {
     "name": "#%%\n"
    }
   }
  },
  {
   "cell_type": "code",
   "execution_count": null,
   "outputs": [],
   "source": [
    "g_c = 0\n",
    "\n",
    "class TestClass():\n",
    "#    global g_c\n",
    "\n",
    "    def run(self):\n",
    "        for i in range(3):\n",
    "            TestClass.g_c = 1\n",
    "            print(g_c)\n",
    "\n",
    "t = TestClass()\n",
    "t.run()\n",
    "print (TestClass.g_c)\n",
    "g_c = 2\n",
    "#t.run()\n",
    "print (g_c)"
   ],
   "metadata": {
    "collapsed": false,
    "pycharm": {
     "name": "#%%\n"
    }
   }
  },
  {
   "cell_type": "code",
   "execution_count": null,
   "outputs": [],
   "source": [
    "a_global_var = \"hello\"\n",
    "\n",
    "class A():\n",
    "    def modify_global(self):\n",
    "#        global a_global_var\n",
    "        a_global_var = \"fun\"\n",
    "        a_global_var += \" world\"\n",
    "        print(a_global_var)\n",
    "\n",
    "A().modify_global()\n",
    "\n",
    "print(a_global_var)"
   ],
   "metadata": {
    "collapsed": false,
    "pycharm": {
     "name": "#%%\n"
    }
   }
  },
  {
   "cell_type": "markdown",
   "source": [
    "# tf dataset"
   ],
   "metadata": {
    "collapsed": false
   }
  },
  {
   "cell_type": "markdown",
   "source": [
    "## dataset"
   ],
   "metadata": {
    "collapsed": false
   }
  },
  {
   "cell_type": "code",
   "execution_count": null,
   "outputs": [],
   "source": [
    "df = pd.read_csv(\n",
    "    os.path.join(mglearn.datasets.DATA_PATH, \"constant_trial.csv\") )\n",
    "\n",
    "# 예제를 위해 몇개의 열만 선택합니다\n",
    "df = df[['IR', 'FlowHt', 'Const', 'Var', 'Base', 'MixS75','MixS50','MixS25']]\n",
    "display(df.head())"
   ],
   "metadata": {
    "collapsed": false,
    "pycharm": {
     "name": "#%%\n"
    }
   }
  },
  {
   "cell_type": "code",
   "execution_count": null,
   "outputs": [],
   "source": [
    "print(df.iloc[-1:, 0]) # last cell\n",
    "print(df.iloc[:-1, 0]) # all cell expcept the last cell\n",
    "print(df.iloc[:,0])#\n"
   ],
   "metadata": {
    "collapsed": false,
    "pycharm": {
     "name": "#%%\n"
    }
   }
  },
  {
   "cell_type": "code",
   "execution_count": null,
   "outputs": [],
   "source": [
    "# egaer tensorflow\n",
    "\n",
    "import tensorflow as tf\n",
    "tf.executing_eagerly()"
   ],
   "metadata": {
    "collapsed": false,
    "pycharm": {
     "name": "#%%\n"
    }
   }
  },
  {
   "cell_type": "code",
   "execution_count": null,
   "outputs": [],
   "source": [
    "\n",
    "x = tf.constant([1., 2.])\n",
    "print(type(x))            # <type 'EagerTensor'>\n",
    "print(type(x.numpy()))    # <type 'numpy.ndarray'>\n",
    "print(type(np.array(x)))  # <type 'numpy.ndarray'>\n"
   ],
   "metadata": {
    "collapsed": false,
    "pycharm": {
     "name": "#%%\n"
    }
   }
  },
  {
   "cell_type": "markdown",
   "source": [
    "## slicing"
   ],
   "metadata": {
    "collapsed": false
   }
  },
  {
   "cell_type": "code",
   "execution_count": null,
   "outputs": [],
   "source": [
    "input_width = 7\n",
    "shift = 1\n",
    "total_win_width = input_width + shift\n",
    "label_width = 1\n",
    "\n",
    "input_slice = slice(0, input_width)\n",
    "label_slice = slice(7,None)\n",
    "\n",
    "\n",
    "def split_window(input_slice, label_slice, features):\n",
    "  inputs = features[:, input_slice, :]\n",
    "  labels = features[:, label_slice, :]\n",
    "\n",
    "  labels = tf.stack( [labels[:, :, 0:3:2] ])\n",
    "  print(f'in split_window : {inputs}')\n",
    "  print(f'in split_window : {labels}')\n",
    "\n",
    "\n",
    "  return inputs, labels\n",
    "\n",
    "example_window = tf.stack([[np.array([0, 1, 2]),\n",
    "                           np.array([1, 2, 3]),\n",
    "                           np.array([2, 2, 3]),\n",
    "                           np.array([3, 2, 3]),\n",
    "                           np.array([4, 2, 3]),\n",
    "                           np.array([5, 2, 3]),\n",
    "                           np.array([6, 2, 3]),\n",
    "                           np.array([7, 2, 3])],\n",
    "\n",
    "                          [np.array([0, 1, 2]),\n",
    "                           np.array([11, 2, 3]),\n",
    "                           np.array([12, 2, 3]),\n",
    "                           np.array([13, 2, 3]),\n",
    "                           np.array([14, 2, 3]),\n",
    "                           np.array([15, 2, 3]),\n",
    "                           np.array([16, 2, 3]),\n",
    "                           np.array([17, 2, 3])]\n",
    "                            ])\n",
    "\n",
    "\n",
    "\n",
    "print (example_window)\n",
    "\n",
    "example_inputs, example_labels  = split_window(input_slice, label_slice, example_window)\n",
    "\n",
    "\n",
    "print('All shapes are: (batch, time, features)')\n",
    "print(f'Window shape: {example_window.shape}')\n",
    "print(f'Inputs shape: {example_inputs.shape}')\n",
    "print(f'labels shape: {example_labels.shape}')\n",
    "print(f'Inputs shape: {example_inputs}')\n",
    "print(f'labels shape: {example_labels}')"
   ],
   "metadata": {
    "collapsed": false,
    "pycharm": {
     "name": "#%%\n"
    }
   }
  },
  {
   "cell_type": "code",
   "execution_count": null,
   "outputs": [],
   "source": [
    "input_width = 7\n",
    "shift = 1\n",
    "total_win_width = input_width + shift\n",
    "label_width = 7\n",
    "\n",
    "input_slice = slice(0, input_width)\n",
    "label_start = total_win_width - label_width\n",
    "label_slice = slice(label_start,None)\n",
    "\n",
    "\n",
    "\n",
    "e2_inputs, e2_labels  = split_window(input_slice, label_slice, example_window)\n",
    "\n",
    "print('All shapes are: (batch, time, features)')\n",
    "print(f'Window shape: {example_window.shape}')\n",
    "print(f'Inputs shape: {e2_inputs.shape}')\n",
    "print(f'labels shape: {e2_labels.shape}')\n",
    "print(f'Inputs shape: {e2_inputs}')\n",
    "print(f'labels shape: {e2_labels}')"
   ],
   "metadata": {
    "collapsed": false,
    "pycharm": {
     "name": "#%%\n"
    }
   }
  },
  {
   "cell_type": "code",
   "execution_count": null,
   "outputs": [],
   "source": [
    "a = np.array([[1, 2], [3, 4]])\n",
    "b = np.array([[7, 8], [9, 10], [11, 12]])\n",
    "\n",
    "print(np.concatenate((a, b), axis=0))\n",
    "print(np.concatenate((a, b.T), axis=1))\n",
    "print(np.concatenate((a, b), axis=None))"
   ],
   "metadata": {
    "collapsed": false,
    "pycharm": {
     "name": "#%%\n"
    }
   }
  },
  {
   "cell_type": "code",
   "execution_count": null,
   "outputs": [],
   "source": [
    "arr2d = np.array([[1, 2, 3], [4, 5, 6], [7, 8, 9]])\n",
    "arr2d"
   ],
   "metadata": {
    "collapsed": false,
    "pycharm": {
     "name": "#%%\n"
    }
   }
  },
  {
   "cell_type": "code",
   "execution_count": null,
   "outputs": [],
   "source": [
    "arr2d[:2]"
   ],
   "metadata": {
    "collapsed": false,
    "pycharm": {
     "name": "#%%\n"
    }
   }
  },
  {
   "cell_type": "code",
   "execution_count": null,
   "outputs": [],
   "source": [
    "arr2d[:2, 1:]"
   ],
   "metadata": {
    "collapsed": false,
    "pycharm": {
     "name": "#%%\n"
    }
   }
  },
  {
   "cell_type": "code",
   "execution_count": null,
   "outputs": [],
   "source": [
    "arr2d[1, -3:]"
   ],
   "metadata": {
    "collapsed": false,
    "pycharm": {
     "name": "#%%\n"
    }
   }
  },
  {
   "cell_type": "code",
   "execution_count": null,
   "outputs": [],
   "source": [
    "arr2d[:, :1]"
   ],
   "metadata": {
    "collapsed": false,
    "pycharm": {
     "name": "#%%\n"
    }
   }
  },
  {
   "cell_type": "code",
   "execution_count": null,
   "outputs": [],
   "source": [
    "from pandas import Series, DataFrame\n",
    "\n",
    "ser = Series(np.arange(4), index=['a', 'b', 'c', 'd'])\n",
    "\n",
    "ser\n",
    "ser['b':'d']"
   ],
   "metadata": {
    "collapsed": false,
    "pycharm": {
     "name": "#%%\n"
    }
   }
  },
  {
   "cell_type": "code",
   "execution_count": null,
   "outputs": [],
   "source": [
    "# tensor\n",
    "a = tf.constant([0.78])\n",
    "a_identity = tf.identity(a)\n",
    "a.numpy()\n",
    "\n",
    "a_identity.numpy()"
   ],
   "metadata": {
    "collapsed": false,
    "pycharm": {
     "name": "#%%\n"
    }
   }
  },
  {
   "cell_type": "code",
   "execution_count": null,
   "outputs": [],
   "source": [
    "a = tf.Variable(5)\n",
    "a_identity = tf.identity(a)\n",
    "a.assign_add(1)\n",
    "\n",
    "a.numpy()\n",
    "\n",
    "a_identity.numpy()\n"
   ],
   "metadata": {
    "collapsed": false,
    "pycharm": {
     "name": "#%%\n"
    }
   }
  },
  {
   "cell_type": "code",
   "execution_count": null,
   "outputs": [],
   "source": [
    "x = tf.constant([1, 4, 7])\n",
    "y = tf.constant([2, 5, 8])\n",
    "z = tf.constant([3, 6, 9])\n",
    "tf.stack([x, y, z])"
   ],
   "metadata": {
    "collapsed": false,
    "pycharm": {
     "name": "#%%\n"
    }
   }
  },
  {
   "cell_type": "code",
   "execution_count": null,
   "outputs": [],
   "source": [
    "a= tf.stack([x, y, z], axis=0)\n",
    "print(a)\n",
    "\n",
    "b = tf.identity(a)\n",
    "c = tf.stack(b)\n",
    "c =tf.concat ([a,b], axis=0)\n",
    "c"
   ],
   "metadata": {
    "collapsed": false,
    "pycharm": {
     "name": "#%%\n"
    }
   }
  },
  {
   "cell_type": "code",
   "execution_count": null,
   "outputs": [],
   "source": [
    "for i in range (2):\n",
    "    b = tf.concat ([a, a], axis=0)\n",
    "\n",
    "print(b)\n",
    "\n",
    "c = tf.concat([b, b], axis =0)\n",
    "print (c)"
   ],
   "metadata": {
    "collapsed": false,
    "pycharm": {
     "name": "#%%\n"
    }
   }
  },
  {
   "cell_type": "code",
   "execution_count": null,
   "outputs": [],
   "source": [
    "import numpy as np\n",
    "import tensorflow as tf\n",
    "x = tf.constant([1, 4, 7])\n",
    "y = tf.constant([2, 5, 8])\n",
    "z = tf.constant([3, 6, 9])\n",
    "a = tf.stack([x, y, z])\n",
    "a.shape"
   ],
   "metadata": {
    "collapsed": false,
    "pycharm": {
     "name": "#%%\n"
    }
   }
  },
  {
   "cell_type": "code",
   "execution_count": null,
   "outputs": [],
   "source": [
    "x = tf.constant([[1, 4, 7], [0.1,0.2,0.3]])\n",
    "y = tf.constant([[2, 5, 8], [0.4, .2, 0.5]])\n",
    "z = tf.constant([[3, 6, 9], [0.3,0.1,0.9]])\n"
   ],
   "metadata": {
    "collapsed": false,
    "pycharm": {
     "name": "#%%\n"
    }
   }
  },
  {
   "cell_type": "code",
   "execution_count": null,
   "outputs": [],
   "source": [
    "a = tf.stack([x,y,z])\n",
    "\n",
    "b = tf.stack(a[:,0:1, 0:2])\n",
    "b\n",
    "x.shape\n",
    "a.shape\n",
    "c = tf.stack(x[:,:])\n",
    "c\n",
    "d = tf.stack(y[:,:])\n",
    "c.shape\n",
    "e = tf.stack([c,d])\n",
    "e"
   ],
   "metadata": {
    "collapsed": false,
    "pycharm": {
     "name": "#%%\n"
    }
   }
  },
  {
   "cell_type": "code",
   "execution_count": null,
   "outputs": [],
   "source": [
    "import tensorflow as tf\n",
    "import numpy as np\n",
    "\n",
    "a = np.array([0])"
   ],
   "metadata": {
    "collapsed": false,
    "pycharm": {
     "name": "#%%\n"
    }
   }
  },
  {
   "cell_type": "code",
   "execution_count": null,
   "outputs": [],
   "source": [
    "import tensorflow as tf\n",
    "import numpy as np\n",
    "\n",
    "\n",
    "x1 = tf.constant([5, 1, 2, 4])\n",
    "print(tf.reduce_max(x1))\n",
    "\n",
    "x = tf.constant([-5, -1, -2, -4])\n",
    "print(tf.reduce_max(x))\n",
    "\n",
    "x = tf.constant([4, float('nan')])\n",
    "print(tf.reduce_max(x))\n",
    "\n",
    "x = tf.constant([float('nan'), float('nan')])\n",
    "print(tf.reduce_max(x))\n",
    "\n",
    "x = tf.constant([float('-inf'), float('inf')])\n",
    "print(tf.reduce_max(x))\n",
    "\n",
    "x = tf.constant([-5, -1, -2, -4])\n",
    "a=np.array([tf.reduce_max(x)])\n",
    "b=np.array(tf.reduce_max(x1))\n",
    "y = max(a, b)\n",
    "print(y)\n",
    "\n",
    "a1 = np.array([0])\n",
    "a  = np.array(a)\n",
    "t = y > a\n",
    "print (t)\n",
    "print(a)"
   ],
   "metadata": {
    "collapsed": false,
    "pycharm": {
     "name": "#%%\n"
    }
   }
  },
  {
   "cell_type": "code",
   "execution_count": null,
   "outputs": [],
   "source": [
    "print(a[2,:,:])\n",
    "b= np.array(a)\n",
    "print(b[0,:,:])\n"
   ],
   "metadata": {
    "collapsed": false,
    "pycharm": {
     "name": "#%%\n"
    }
   }
  },
  {
   "cell_type": "code",
   "execution_count": null,
   "outputs": [],
   "source": [
    "tf.stack([x, y, z], axis=1)"
   ],
   "metadata": {
    "collapsed": false,
    "pycharm": {
     "name": "#%%\n"
    }
   }
  },
  {
   "cell_type": "code",
   "execution_count": null,
   "outputs": [],
   "source": [
    "tf.stack([x, y, z], axis=-1)\n"
   ],
   "metadata": {
    "collapsed": false,
    "pycharm": {
     "name": "#%%\n"
    }
   }
  },
  {
   "cell_type": "code",
   "execution_count": null,
   "outputs": [],
   "source": [
    "a =np.array([[[2, 3, 3],\n",
    "      [3, 4, 6],\n",
    "      [5, 2, 6]],\n",
    "     [[2, 3, 3],\n",
    "      [3, 4, 6],\n",
    "      [5, 2, 6]],\n",
    "     ])\n",
    "b =np.array([[[12, 13, 13],\n",
    "      [13, 14, 16],\n",
    "      [15, 12, 16]],\n",
    "     [[12, 13, 13],\n",
    "      [13, 14, 16],\n",
    "      [15, 12, 16]],\n",
    "     ])\n",
    "print(a)"
   ],
   "metadata": {
    "collapsed": false,
    "pycharm": {
     "name": "#%%\n"
    }
   }
  },
  {
   "cell_type": "code",
   "execution_count": null,
   "outputs": [],
   "source": [
    "#############################################################\n",
    "#b\n",
    "#c = np.stack((a,b), axis=0)\n",
    "\n",
    "a= a.reshape(1,2,3,3)\n",
    "b= a.reshape(1,2,3,3)\n",
    "\n",
    "c = np.vstack((a,b))\n",
    "#a = np.atleast_3d(a)\n",
    "d = np.vstack((c,a))\n",
    "e = np.vstack((c,a))\n",
    "f = np.vstack((d,a))\n",
    "\n",
    "#print(f'c = {c}')\n",
    "#\n",
    "\n",
    "print (f[2,:,:,:])"
   ],
   "metadata": {
    "collapsed": false,
    "pycharm": {
     "name": "#%%\n"
    }
   }
  },
  {
   "cell_type": "code",
   "execution_count": null,
   "outputs": [],
   "source": [
    "###################################################################\n",
    "a =np.array([[[2, 3, 3],\n",
    "      [3, 4, 6],\n",
    "      [5, 2, 6]],\n",
    "     [[2, 3, 3],\n",
    "      [3, 4, 6],\n",
    "      [5, 2, 6]],\n",
    "     ])\n",
    "b =np.array([[[12, 13, 13],\n",
    "      [13, 14, 16],\n",
    "      [15, 12, 16]],\n",
    "     [[12, 13, 13],\n",
    "      [13, 14, 16],\n",
    "      [15, 12, 16]],\n",
    "     ])\n",
    "batch =  tf.stack([a, b])\n",
    "c = tf.stack([a, b])\n",
    "#print(c)\n",
    "\n",
    "e = tf.concat([batch,c],0)\n",
    "print(e)"
   ],
   "metadata": {
    "collapsed": false,
    "pycharm": {
     "name": "#%%\n"
    }
   }
  },
  {
   "cell_type": "code",
   "execution_count": null,
   "outputs": [],
   "source": [
    "x = np.array([1, 2])\n",
    "x.shape\n",
    "x.reshape(2,1)\n",
    "x\n",
    "a = np.atleast_3d(x)\n",
    "#a\n",
    "#np.atleast_3d(x).shape"
   ],
   "metadata": {
    "collapsed": false,
    "pycharm": {
     "name": "#%%\n"
    }
   }
  },
  {
   "cell_type": "code",
   "execution_count": null,
   "outputs": [],
   "source": [
    "######################################################### mapping tf dataset\n",
    "import numpy as np\n",
    "import tensorflow as tf\n",
    "# MAP\n",
    "#x = np.array([[1],[2],[3],[4],[5],[6],[7] ])\n",
    "x =np.array([[[[1, 2, 3],\n",
    "               [2, 3, 4],\n",
    "               [3, 4, 5]],\n",
    "     [[11, 12, 13],\n",
    "      [12, 13, 14],\n",
    "      [13, 14, 15]],\n",
    "     ],\n",
    "            [[[21, 22, 23],\n",
    "              [22, 23, 24],\n",
    "              [23, 24, 25]],\n",
    "      [[31, 32, 33],\n",
    "      [32, 33, 34],\n",
    "      [33, 34, 35]],\n",
    "     ]])\n",
    "y = np.array([ [5],[6],[7]])\n",
    "# make a dataset from a numpy array\n",
    "dataset = tf.data.Dataset.from_tensor_slices(x)\n",
    "\n",
    "def map_fn(fea  ):\n",
    "#  f1 = fea[0:3]\n",
    "  f1 = fea[xslice]\n",
    "  f2 = fea[yslice]\n",
    "  return f1, f2\n",
    "\n",
    "#dataset = dataset.map(lambda x: x*2)\n",
    "\n",
    "xslice = slice(0,1,1)\n",
    "yslice = slice(0,1,2)\n",
    "dataset = dataset.map(map_fn)\n",
    "\n",
    "#result = next(iter(dataset))\n",
    "#print(f'result = {result}')\n",
    "#iter = dataset.make_one_shot_iterator()\n",
    "#el = iter.get_next()\n",
    "#with tf.Session() as sess:\n",
    "#     this will run forever\n",
    "#        for _ in range(len(x)):\n",
    "#            print(sess.run(el))\n",
    "\n",
    "for batch in dataset:\n",
    "    f11, f22 = batch\n",
    "    print(f'*** f11 = {f11}')\n",
    "    print(f'*** f22 = {f22}')"
   ],
   "metadata": {
    "collapsed": false,
    "pycharm": {
     "name": "#%%\n"
    }
   }
  },
  {
   "cell_type": "code",
   "execution_count": null,
   "outputs": [],
   "source": [
    "import numpy as np\n",
    "import tensorflow as tf\n",
    "################################################# mapping\n",
    "def map_fn(fea ):\n",
    "  global gt\n",
    "  gt = np.array([[100,100],[1,10]])\n",
    "  global f3\n",
    "  f1 = fea[:, 0:2, :]\n",
    "  f2 = fea[:, 1:, :]\n",
    "  f3 = fea[:, -1:, :]\n",
    "  print(f1)\n",
    "#  print(f'*** f2 = {f2}')\n",
    "\n",
    "#  print(f'*** f3 = {f3}')\n",
    "\n",
    "#  f3 = [100, 10]\n",
    "  return f1, f2\n",
    "#  return f1, f2\n",
    "\n",
    "def map_fn2(fea ):\n",
    "#  global f3\n",
    "  f1 = fea[:, 0:2, :]\n",
    "  f2 = fea[:, 1:, :]\n",
    "  f3 = fea[:, -1:, :]\n",
    "\n",
    "#  print(f'*** f2 = {f2}')\n",
    "\n",
    "#  print(f'*** f3 = {f3}')\n",
    "\n",
    "#  f3 = [100, 10]\n",
    "  return f3\n",
    "\n",
    "x =np.array([[[[1, 2, 3],\n",
    "               [2, 3, 4],\n",
    "               [3, 4, 5]],\n",
    "     [[11, 12, 13],\n",
    "      [12, 13, 14],\n",
    "      [13, 14, 15]],\n",
    "     ],\n",
    "            [[[21, 22, 23],\n",
    "              [22, 23, 24],\n",
    "              [23, 24, 25]],\n",
    "      [[31, 32, 33],\n",
    "      [32, 33, 34],\n",
    "      [33, 34, 35]],\n",
    "     ]])\n",
    "print(x.shape)\n",
    "dataset = tf.data.Dataset.from_tensor_slices(x)\n",
    "\n",
    "dataset1 = dataset.map(map_fn)\n",
    "\n",
    "for i, batch in enumerate(dataset1)  :\n",
    "    f = batch\n",
    "#    f1, f2= batch\n",
    "    print(f[0][0,0])\n",
    "    print(f[0][1,1])\n",
    "\n",
    "\n",
    "    print(f'*** f1 = {f1}')\n",
    "#    print(f'*** f2 = {f2}')\n",
    "#print(f'*** f3 = {f3}')\n",
    "#print (f1.shape)\n",
    "#print (f2.shape)\n",
    "print(gt)\n",
    "\n",
    "#result = next(iter(f3))\n",
    "#print(f'result = {result}')"
   ],
   "metadata": {
    "collapsed": false,
    "pycharm": {
     "name": "#%%\n"
    }
   }
  },
  {
   "cell_type": "code",
   "execution_count": null,
   "outputs": [],
   "source": [
    "dataset2 = dataset.map(map_fn2)\n",
    "result = next(iter(dataset2))\n",
    "#print(f'result = {result}')\n",
    "\n",
    "for i, f3 in enumerate(dataset2) :\n",
    "    if i == 0 :\n",
    "        tf.expand_dims(f3, 0)\n",
    "        batch = f3\n",
    "    else :\n",
    "        tf.expand_dims(f3, 0)\n",
    "        batch = tf.concat([batch, f3], 0)"
   ],
   "metadata": {
    "collapsed": false,
    "pycharm": {
     "name": "#%%\n"
    }
   }
  },
  {
   "cell_type": "code",
   "execution_count": null,
   "outputs": [],
   "source": [
    "t = tf.constant([ [[1, 1, 1],\n",
    "                  [2, 2, 2]],\n",
    "                 [[3, 3, 3],\n",
    "                    [4, 4, 4]],\n",
    "                 [[5, 5, 5], [6, 6, 6]]])\n",
    "\n"
   ],
   "metadata": {
    "collapsed": false,
    "pycharm": {
     "name": "#%%\n"
    }
   }
  },
  {
   "cell_type": "code",
   "execution_count": null,
   "outputs": [],
   "source": [
    "import numpy as np\n",
    "import tensorflow as tf\n",
    "################################################# mapping  ##############################\n",
    "def map_fn( feature ):\n",
    "  f1 = feature[:, 1:2]\n",
    "  return f1\n",
    "\n",
    "def map_fn2( feature ):\n",
    "  f2 = feature[:, 0:2]\n",
    "  return f2\n",
    "\n",
    "x = tf.constant([ [[1, 11],\n",
    "                  [2, 12]],\n",
    "                  [[3, 13],\n",
    "                    [4, 14]] ])   #(2,2,2)\n",
    "\n",
    "print(x.shape)\n",
    "\n",
    "#print(tf.strided_slice(x,[1, -1], [2, -3], [1, -1] ))\n",
    "def data_fn(x) :\n",
    "    global  dataset\n",
    "    dataset = tf.data.Dataset.from_tensor_slices(x)\n",
    "    ds = dataset.map(map_fn)\n",
    "#    ds = dataset.map(lambda x: x[:, 1:2])\n",
    "    return ds\n",
    "\n",
    "ds = data_fn(x)\n",
    "\n",
    "#ds2 = dataset.map(lambda x: x[:, 0:2])\n",
    "\n",
    "for batch in ds :\n",
    "    f1 = batch\n",
    "#    f1, f2= batch\n",
    "    print(f'*** f1 = {f1}')\n",
    "\n",
    "ds2 = dataset.map(map_fn2)\n",
    "\n",
    "for batch in ds2 :\n",
    "    f2 = batch\n",
    "#    f1, f2= batch\n",
    "    print(f'*** f2 = {f2}')\n",
    "    print(f2.shape)\n"
   ],
   "metadata": {
    "collapsed": false,
    "pycharm": {
     "name": "#%%\n"
    }
   }
  },
  {
   "cell_type": "code",
   "execution_count": null,
   "outputs": [],
   "source": [
    "dataset = tf.data.Dataset.from_tensor_slices(x)\n",
    "\n",
    "dataset1 = dataset.map(map_fn)\n",
    "\n",
    "for batch in dataset1:\n",
    "    f = batch\n",
    "#    f1, f2= batch\n",
    "    print(f'*** f1 = {f1}')\n",
    "#    print(f'*** f2 = {f2}')\n",
    "#print(f'*** f3 = {f3}')\n",
    "#print (f1.shape)\n",
    "#print (f2.shape)\n",
    "print(gt)\n",
    "\n",
    "#result = next(iter(f3))\n",
    "#print(f'result = {result}')"
   ],
   "metadata": {
    "collapsed": false,
    "pycharm": {
     "name": "#%%\n"
    }
   }
  },
  {
   "cell_type": "code",
   "execution_count": null,
   "outputs": [],
   "source": [
    "#print(tf.strided_slice(t, [1, 0, 0], [2, 1, 3], [1, 1, 1]))  # [[[3, 3, 3]]]\n",
    "#print(tf.strided_slice(t, [1, 0, 0], [2, 1, 3], [1, 1, 1]))  # [[[3, 3, 3]]]"
   ],
   "metadata": {
    "collapsed": false,
    "pycharm": {
     "name": "#%%\n"
    }
   }
  },
  {
   "cell_type": "code",
   "execution_count": null,
   "outputs": [],
   "source": [
    "tf.strided_slice(t, [1, 0, 0], [2, 2, 3], [1, 1, 1])  # [[[3, 3, 3],\n",
    "                                                      #   [4, 4, 4]]]\n",
    "tf.strided_slice(t, [1, -1, 0], [2, -3, 3], [1, -1, 1])  # [[[4, 4, 4],\n",
    "                                                         #   [3, 3, 3]]"
   ],
   "metadata": {
    "collapsed": false,
    "pycharm": {
     "name": "#%%\n"
    }
   }
  },
  {
   "cell_type": "code",
   "execution_count": null,
   "outputs": [],
   "source": [
    "print(batch[0:2])\n",
    "\n"
   ],
   "metadata": {
    "collapsed": false,
    "pycharm": {
     "name": "#%%\n"
    }
   }
  },
  {
   "cell_type": "code",
   "execution_count": null,
   "outputs": [],
   "source": [
    "tf.reshape(f3, [1,2,1,3])\n",
    "f3 = np.array(f3)\n",
    "f3.reshape(1,2,1,3)\n",
    "f3.shape"
   ],
   "metadata": {
    "collapsed": false,
    "pycharm": {
     "name": "#%%\n"
    }
   }
  },
  {
   "cell_type": "code",
   "execution_count": null,
   "outputs": [],
   "source": [
    "total.shape\n",
    "# tf.expand_dims(f3, axis=0).shape.as_list()\n",
    "f3.shape\n",
    "tf.concat([total, f3], axis=0)\n",
    "\n"
   ],
   "metadata": {
    "collapsed": false,
    "pycharm": {
     "name": "#%%\n"
    }
   }
  },
  {
   "cell_type": "code",
   "execution_count": null,
   "outputs": [],
   "source": [
    "# ====================###################################################\n",
    "t1 = tf.zeros((3,28,28))\n",
    "t2 = tf.zeros((3,28,28))\n",
    "t3 = tf.zeros((3,28,28))\n",
    "\n",
    "batch = tf.stack([t1,t2,t3])\n",
    "a.shape\n",
    "## output ##\n",
    "total = tf.concat( [batch, tf.stack([t1,t2,t3])], 0)\n",
    "\n"
   ],
   "metadata": {
    "collapsed": false,
    "pycharm": {
     "name": "#%%\n"
    }
   }
  },
  {
   "cell_type": "code",
   "execution_count": null,
   "outputs": [],
   "source": [
    "##################################################\n",
    "#b\n",
    "#c = np.stack((a,b), axis=0)\n",
    "\n",
    "a= a.reshape(1,2,3,3)\n",
    "b= a.reshape(1,2,3,3)\n",
    "\n",
    "c = np.vstack((a,b))\n",
    "#a = np.atleast_3d(a)\n",
    "d = np.vstack((c,a))\n",
    "e = np.vstack((c,a))\n",
    "f = np.vstack((d,a))\n",
    "\n",
    "#print(f'c = {c}')\n",
    "#\n",
    "\n",
    "print (f[2,:,:,:])"
   ],
   "metadata": {
    "collapsed": false,
    "pycharm": {
     "name": "#%%\n"
    }
   }
  },
  {
   "cell_type": "code",
   "execution_count": null,
   "outputs": [],
   "source": [
    "t = [[1, 2, 3],[4, 5, 6]]\n",
    "t = np.array(t)\n",
    "tf.shape(t)\n",
    "print(t.shape)\n",
    "print(tf.expand_dims(t, 0))# [2, 3]\n",
    "tf.shape(tf.expand_dims(t, 0))"
   ],
   "metadata": {
    "collapsed": false,
    "pycharm": {
     "name": "#%%\n"
    }
   }
  },
  {
   "cell_type": "code",
   "execution_count": null,
   "outputs": [],
   "source": [
    "t = [[1, 2, 3],[4, 5, 6]]\n",
    "print(tf.expand_dims(t, 1)) # [1, 2, 3]\n",
    "tf.shape(tf.expand_dims(t, 1))"
   ],
   "metadata": {
    "collapsed": false,
    "pycharm": {
     "name": "#%%\n"
    }
   }
  },
  {
   "cell_type": "code",
   "execution_count": null,
   "outputs": [],
   "source": [
    "t = [[1, 2, 3],[4, 5, 6]]\n",
    "print(tf.expand_dims(t, -1))\n",
    "tf.shape(tf.expand_dims(t, -1)) # [2, 3, 1]"
   ],
   "metadata": {
    "collapsed": false,
    "pycharm": {
     "name": "#%%# [2, 1, 3]\n"
    }
   }
  },
  {
   "cell_type": "code",
   "execution_count": null,
   "outputs": [],
   "source": [
    "###################################################################\n",
    "a =np.array([[[2, 3, 3],\n",
    "      [3, 4, 6],\n",
    "      [5, 2, 6]],\n",
    "     [[2, 3, 3],\n",
    "      [3, 4, 6],\n",
    "      [5, 2, 6]],\n",
    "     ])\n",
    "b =np.array([[[12, 13, 13],\n",
    "      [13, 14, 16],\n",
    "      [15, 12, 16]],\n",
    "     [[12, 13, 13],\n",
    "      [13, 14, 16],\n",
    "      [15, 12, 16]],\n",
    "     ])\n",
    "batch =  tf.stack([a, b])\n",
    "\n",
    "c = tf.stack([a, b])\n",
    "#print(c)\n",
    "\n",
    "e = tf.concat([batch,c],0)\n",
    "print(e)"
   ],
   "metadata": {
    "collapsed": false,
    "pycharm": {
     "name": "#%%\n"
    }
   }
  },
  {
   "cell_type": "code",
   "execution_count": null,
   "outputs": [],
   "source": [
    "t = tf.constant([[[1, 1, 1], [2, 2, 2]], [[3, 3, 3], [4, 4, 4]]])\n",
    "tf.shape(t)  #.html# [2, 2, 3]"
   ],
   "metadata": {
    "collapsed": false,
    "pycharm": {
     "name": "#%%\n"
    }
   }
  },
  {
   "cell_type": "code",
   "execution_count": null,
   "outputs": [],
   "source": [
    "f3={}\n",
    "f4={}\n",
    "for key, batch in enumerate(dataset3) :\n",
    "#    f1, f2 = batch\n",
    "    b = np.array(batch)\n",
    "#    inner_loop = tuple(tuple(map(tuple, sub)) for sub in b)\n",
    " #   print (b)\n",
    "    b=totuple(b)\n",
    "    f3[key] = {b}\n",
    "#    f3 = batch\n",
    "    print(f'*** f3 = {f3}')"
   ],
   "metadata": {
    "collapsed": false,
    "pycharm": {
     "name": "#%%\n"
    }
   }
  },
  {
   "cell_type": "code",
   "execution_count": null,
   "outputs": [],
   "source": [
    "a= np.zeros((2, 2, 3, 3))\n",
    "\n",
    "for i, value in enumerate(f3.values()):\n",
    "    a =np.array(value)\n",
    "    print (a)\n",
    "\n",
    "#print(a(0,: ,:,:))"
   ],
   "metadata": {
    "collapsed": false,
    "pycharm": {
     "name": "#%%\n"
    }
   }
  },
  {
   "cell_type": "code",
   "execution_count": null,
   "outputs": [],
   "source": [
    "#a= np.zeros((2, 2, 3, 3))\n",
    "\n",
    "for key, batch in enumerate(dataset3) :\n",
    "#    f1, f2 = batch\n",
    "    a= batch\n",
    "\n",
    "    print(f'*** a = {a}')\n",
    "print(f'*** a = {a[1]}')"
   ],
   "metadata": {
    "collapsed": false,
    "pycharm": {
     "name": "#%%\n"
    }
   }
  },
  {
   "cell_type": "code",
   "execution_count": null,
   "outputs": [],
   "source": [
    "arr = np.array(((2,2),(2,-2)))\n",
    "print(arr)\n",
    "tuple(map(tuple, arr))"
   ],
   "metadata": {
    "collapsed": false,
    "pycharm": {
     "name": "#%%\n"
    }
   }
  },
  {
   "cell_type": "code",
   "execution_count": null,
   "outputs": [],
   "source": [
    "array = np.array((((2,2),(2,-2)),((2,2),(2,-2))))\n",
    "array"
   ],
   "metadata": {
    "collapsed": false,
    "pycharm": {
     "name": "#%%\n"
    }
   }
  },
  {
   "cell_type": "code",
   "execution_count": null,
   "outputs": [],
   "source": [
    "def totuple(a):\n",
    "    try:\n",
    "        return tuple(totuple(i) for i in a)\n",
    "    except TypeError:\n",
    "        return a\n",
    "\n",
    "array = np.array((((2,2),(2,-2)),((2,2),(2,-2))))\n",
    "totuple(array)"
   ],
   "metadata": {
    "collapsed": false,
    "pycharm": {
     "name": "#%%\n"
    }
   }
  },
  {
   "cell_type": "code",
   "execution_count": null,
   "outputs": [],
   "source": [
    "f3 = {1: b}\n",
    "f3"
   ],
   "metadata": {
    "collapsed": false,
    "pycharm": {
     "name": "#%%\n"
    }
   }
  },
  {
   "cell_type": "code",
   "execution_count": null,
   "outputs": [],
   "source": [
    "my_dict = {'name': 'John', (1,2,3):'values'}\n",
    "print(my_dict)\n"
   ],
   "metadata": {
    "collapsed": false,
    "pycharm": {
     "name": "#%%\n"
    }
   }
  },
  {
   "cell_type": "code",
   "execution_count": null,
   "outputs": [],
   "source": [
    "x = \"awesome\"\n",
    "\n",
    "def myfunc():\n",
    "  x = \"fantastic\"\n",
    "  print(\"Python is \" + x)\n",
    "\n",
    "myfunc()\n",
    "\n",
    "print(\"Python is \" + x)"
   ],
   "metadata": {
    "collapsed": false,
    "pycharm": {
     "name": "#%%\n"
    }
   }
  },
  {
   "cell_type": "code",
   "execution_count": null,
   "outputs": [],
   "source": [
    "x = \"awesome\"\n",
    "\n",
    "def myfunc():\n",
    "  global x\n",
    "  x = \"fantastic\"\n",
    "\n",
    "myfunc()\n",
    "\n",
    "print(\"Python is \" + x)"
   ],
   "metadata": {
    "collapsed": false,
    "pycharm": {
     "name": "#%%\n"
    }
   }
  },
  {
   "cell_type": "code",
   "execution_count": null,
   "outputs": [],
   "source": [
    "x = np.array([[11],[12],[13]])\n",
    "\n",
    "def myfunc():\n",
    "  global x\n",
    "  x = np.array([[.31],[2],[3]])\n",
    "\n",
    "  return x\n",
    "\n",
    "myfunc()\n",
    "\n",
    "print(x)"
   ],
   "metadata": {
    "collapsed": false,
    "pycharm": {
     "name": "#%%\n"
    }
   }
  },
  {
   "cell_type": "code",
   "execution_count": null,
   "outputs": [],
   "source": [
    "a1 = np.array(f1)\n",
    "a2 =  np.array(f2)\n",
    "\n",
    "c = np.array(5,5)\n",
    "c[1] = a1"
   ],
   "metadata": {
    "collapsed": false,
    "pycharm": {
     "name": "#%%\n"
    }
   }
  },
  {
   "cell_type": "markdown",
   "source": [
    "## tf.tile slice split ...."
   ],
   "metadata": {
    "collapsed": false
   }
  },
  {
   "cell_type": "code",
   "execution_count": null,
   "outputs": [],
   "source": [
    "import tensorflow as tf\n",
    "#import functions\n",
    "\n",
    "c1 = tf.constant([1, 3, 5, 7, 9, 0, 2, 4, 6, 8])\n",
    "c2 = tf.constant([1, 3, 5])\n",
    "v1 = tf.constant([[1, 2, 3, 4, 5, 6],\n",
    "                  [7, 8, 9, 0, 1, 2]])\n",
    "v2 = tf.constant([[1, 2, 3], [7, 8, 9]])\n",
    "\n",
    "print('-----------slice------------')\n",
    "print(tf.slice(c1, [2], [3]))             # [5 7 9]\n",
    "print(c1[2:5])             # [5 7 9]\n",
    "print(tf.slice(v1, [0, 2], [1, 2]))       # [[3 4]]\n",
    "print(tf.slice(v1, [0, 2], [2, 2]))       # [[3 4] [9 0]]\n",
    "print(tf.slice(v1, [0, 2], [2,-1]))       # [[3 4 5 6] [9 0 1 2]]"
   ],
   "metadata": {
    "collapsed": false,
    "pycharm": {
     "name": "#%%\n"
    }
   }
  },
  {
   "cell_type": "code",
   "execution_count": null,
   "outputs": [],
   "source": [
    "print('-----------split------------')\n",
    "s0 = tf.split(c1, num_or_size_splits=2, axis=0)\n",
    "s0"
   ],
   "metadata": {
    "collapsed": false,
    "pycharm": {
     "name": "#%%\n"
    }
   }
  },
  {
   "cell_type": "code",
   "execution_count": null,
   "outputs": [],
   "source": [
    "print(tf.split(c1, 5, 0))"
   ],
   "metadata": {
    "collapsed": false,
    "pycharm": {
     "name": "#%%\n"
    }
   }
  },
  {
   "cell_type": "code",
   "execution_count": null,
   "outputs": [],
   "source": [
    "print(tf.split(v1, 2, 0))"
   ],
   "metadata": {
    "collapsed": false,
    "pycharm": {
     "name": "#%%\n"
    }
   }
  },
  {
   "cell_type": "code",
   "execution_count": null,
   "outputs": [],
   "source": [
    "print(tf.split(v1, 2, 1)) # [[[1, 2, 3], [7, 8, 9]], [[4, 5, 6], [0, 1, 2]]]"
   ],
   "metadata": {
    "collapsed": false,
    "pycharm": {
     "name": "#%% # [[[1, 2, 3, 4, 5, 6]], [[7, 8, 9, 0, 1, 2]]]\n"
    }
   }
  },
  {
   "cell_type": "code",
   "execution_count": null,
   "outputs": [],
   "source": [
    "print('-----------tile------------')\n",
    "# c2 = tf.constant([1, 3, 5])\n",
    "\n",
    "t0 = (tf.tile(c2, [3]))   # [1 3 5 1 3 5 1 3 5]\n",
    "print(t0)"
   ],
   "metadata": {
    "collapsed": false,
    "pycharm": {
     "name": "#%%\n"
    }
   }
  },
  {
   "cell_type": "code",
   "execution_count": null,
   "outputs": [],
   "source": [
    "t1 = tf.tile(v2, [2, 2])\n",
    "print(t1)"
   ],
   "metadata": {
    "collapsed": false,
    "pycharm": {
     "name": "#%%\n"
    }
   }
  },
  {
   "cell_type": "code",
   "execution_count": null,
   "outputs": [],
   "source": [
    "OUT_STEPS = 2\n",
    "inputs = tf.constant([[[1, 2, 3, 4, 5, 6],\n",
    "                  [7, 8, 9, 0, 1, 2]],\n",
    "                   [[1, 2, 3, 4, 5, 6],\n",
    "                  [7, 8, 9, 0, 1, 2]]] )   # (2, 2, 6)\n",
    "\n",
    "t3 = tf.tile(inputs[:, -1:, :], [1, OUT_STEPS, 1])\n",
    "print(t3)"
   ],
   "metadata": {
    "collapsed": false,
    "pycharm": {
     "name": "#%%\n"
    }
   }
  },
  {
   "cell_type": "code",
   "execution_count": null,
   "outputs": [],
   "source": [
    "print('-----------pad------------')         # 2차원에 대해서만 동작\n",
    "# [[0 0 0 0 0 0 0]\n",
    "#  [0 0 1 2 3 0 0]\n",
    "#  [0 0 7 8 9 0 0]\n",
    "#  [0 0 0 0 0 0 0]]\n",
    "functions.showOperation(tf.pad(v2, [[1, 1], [2, 2]], 'CONSTANT'))\n",
    "# [[9 8 7 8 9 8 7]\n",
    "#  [3 2 1 2 3 2 1]\n",
    "#  [9 8 7 8 9 8 7]\n",
    "#  [3 2 1 2 3 2 1]]     # 3 2 1 2 3 2 1 2 3 2 1 처럼 반복\n",
    "functions.showOperation(tf.pad(v2, [[1, 1], [2, 2]], 'REFLECT'))\n",
    "# [[2 1 1 2 3 3 2]\n",
    "#  [2 1 1 2 3 3 2]\n",
    "#  [8 7 7 8 9 9 8]\n",
    "#  [8 7 7 8 9 9 8]]     # 3 2 1 (1 2 3) 3 2 1. 가운데와 대칭\n",
    "functions.showOperation(tf.pad(v2, [[1, 1], [2, 2]], 'SYMMETRIC'))\n",
    "\n",
    "print('-----------concat------------')\n",
    "functions.showOperation(tf.concat(0, [c1, c2]))     # [1 3 5 7 9 0 2 4 6 8 1 3 5]\n",
    "functions.showOperation(tf.concat(1, [v1, v2]))     # [[1 2 3 4 5 6 1 2 3] [7 8 9 0 1 2 7 8 9]]\n",
    "# functions.showOperation(tf.concat(0, [v1, v2]))   # error. different column size.\n",
    "\n",
    "c3, c4 = tf.constant([1, 3, 5]), tf.constant([[1, 3, 5], [5, 7, 9]])\n",
    "v3, v4 = tf.constant([2, 4, 6]), tf.constant([[2, 4, 6], [6, 8, 0]])\n",
    "\n",
    "print('-----------pack------------')           # 차원 증가. tf.pack([x, y]) = np.asarray([x, y])\n",
    "functions.showOperation(tf.pack([c3, v3]))      # [[1 3 5] [2 4 6]]\n",
    "functions.showOperation(tf.pack([c4, v4]))      # [[[1 3 5] [5 7 9]]  [[2 4 6] [6 8 0]]]\n",
    "\n",
    "t1 = tf.pack([c3, v3])\n",
    "t2 = tf.pack([c4, v4])\n",
    "\n",
    "print('-----------unpack------------')         # 차원 감소\n",
    "functions.showOperation(tf.unpack(t1))          # [[1, 3, 5], [2, 4, 6]]\n",
    "functions.showOperation(tf.unpack(t2))          # [[[1, 3, 5], [5, 7, 9]],  [[2, 4, 6], [6, 8, 0]]]\n",
    "\n",
    "print('-----------reverse------------')\n",
    "functions.showOperation(tf.reverse(c1, [True]))         # [8 6 4 2 0 9 7 5 3 1]\n",
    "functions.showOperation(tf.reverse(v1, [True, False]))  # [[7 8 9 0 1 2] [1 2 3 4 5 6]]\n",
    "functions.showOperation(tf.reverse(v1, [True, True ]))  # [[2 1 0 9 8 7] [6 5 4 3 2 1]]\n",
    "\n",
    "print('-----------transpose------------')      # perm is useful to multi-dimension .\n",
    "functions.showOperation(tf.transpose(c3))       # [1 3 5]. not 1-D.\n",
    "functions.showOperation(tf.transpose(c4))       # [[1 5] [3 7] [5 9]]\n",
    "functions.showOperation(tf.transpose(c4, perm=[0, 1]))   # [[1 3 5] [5 7 9]]\n",
    "functions.showOperation(tf.transpose(c4, perm=[1, 0]))   # [[1 5] [3 7] [5 9]]\n",
    "\n",
    "print('-----------gather------------')\n",
    "functions.showOperation(tf.gather(c1, [2, 5, 2, 5]))     # [5 0 5 0]\n",
    "functions.showOperation(tf.gather(v1, [0, 1]))           # [[1 2 3 4 5 6] [7 8 9 0 1 2]]\n",
    "functions.showOperation(tf.gather(v1, [[0, 0], [1, 1]])) # [[[1 2 3 4 5 6] [1 2 3 4 5 6]]  [[7 8 9 0 1 2] [7 8 9 0 1 2]]]\n",
    "\n",
    "print('-----------one_hot------------')         # make one-hot matrix.\n",
    "# [[ 1.  0.  0.]\n",
    "#  [ 0.  1.  0.]\n",
    "#  [ 0.  0.  1.]\n",
    "#  [ 0.  1.  0.]]\n",
    "functions.showOperation(tf.one_hot([0, 1, 2, 1], 3))\n",
    "# [[ 0.  0.  0.  1.]\n",
    "#  [ 0.  0.  0.  0.]\n",
    "#  [ 0.  1.  0.  0.]]\n",
    "functions.showOperation(tf.one_hot([3, -1, 1], 4))\n",
    "\n",
    "\n",
    "#출처: https://pythonkim.tistory.com/65 [파이쿵]"
   ],
   "metadata": {
    "collapsed": false,
    "pycharm": {
     "name": "#%%\n"
    }
   }
  },
  {
   "cell_type": "code",
   "execution_count": null,
   "outputs": [],
   "source": [
    "df = pd.DataFrame(data=np.array([[1, 2, 3], [4, 5, 6], [7, 8, 9]]), columns=[48, 49, 50])\n",
    "display(df)\n",
    "\n",
    "a = pd.DataFrame(data=[[1,2,3]], columns=[48,49,50])\n",
    "display(a)\n",
    "\n",
    "df = df.append(a)\n",
    "display(df)\n",
    "df = df.reset_index(drop=True)\n",
    "display(df)\n",
    "\n",
    "\n",
    "#출처: https://3months.tistory.com/292 [Deep Play]"
   ],
   "metadata": {
    "collapsed": false,
    "pycharm": {
     "name": "#%%\n"
    }
   }
  },
  {
   "cell_type": "code",
   "execution_count": null,
   "outputs": [],
   "source": [
    "import pandas as pd\n",
    "import numpy as np\n",
    "\n",
    "test_df = {year:{'col_A': np.random.randint(1, 100, size=10),\n",
    "                 'col_B': np.random.randint(1, 100, size=10),\n",
    "                 'col_B': np.random.randint(1, 100, size=10),\n",
    "                } for year in range(2008, 2012)}\n",
    "test_df = pd.DataFrame(test_df)\n",
    "print(test_df.columns)\n",
    "print(test_df.index)"
   ],
   "metadata": {
    "collapsed": false,
    "pycharm": {
     "name": "#%%\n"
    }
   }
  },
  {
   "cell_type": "code",
   "execution_count": null,
   "outputs": [],
   "source": [
    "test_df = {year:{'col_A': np.random.randint(1, 100, size=10),\n",
    "                 'col_B': np.random.randint(1, 100, size=10),\n",
    "                 'col_B': np.random.randint(1, 100, size=10),\n",
    "                } for year in range(2008, 2012)}\n",
    "test_df = pd.DataFrame(test_df)\n",
    "test_df = test_df.T\n",
    "print(f\"columsn: {test_df.columns}\")\n",
    "print(f\"index: {test_df.index}\")"
   ],
   "metadata": {
    "collapsed": false,
    "pycharm": {
     "name": "#%%\n"
    }
   }
  },
  {
   "cell_type": "code",
   "execution_count": null,
   "outputs": [],
   "source": [
    "test_df = {year:{'col_A': np.random.randint(1, 100, size=10),\n",
    "                 'col_B': np.random.randint(1, 100, size=10),\n",
    "                 'col_B': np.random.randint(1, 100, size=10),\n",
    "                } for year in range(2008, 2012)}\n",
    "test_df = pd.DataFrame(test_df)\n",
    "test_df = test_df.T\n",
    "print(f\"columsn: {test_df.columns}\")\n",
    "print(f\"index: {test_df.index}\")"
   ],
   "metadata": {
    "collapsed": false,
    "pycharm": {
     "name": "#%%\n"
    }
   }
  },
  {
   "cell_type": "code",
   "execution_count": null,
   "outputs": [],
   "source": [
    "test_df = {year:{'col_A': np.random.randint(1, 100, size=10),\n",
    "                 'col_B': np.random.randint(1, 100, size=10),\n",
    "                 'col_B': np.random.randint(1, 100, size=10),\n",
    "                } for year in range(2008, 2012)}\n",
    "test_df = pd.DataFrame.from_dict(test_df, orient='index')\n",
    "print(f\"columns: {test_df.columns}\")\n",
    "print(f\"index: {test_df.index}\")"
   ],
   "metadata": {
    "collapsed": false,
    "pycharm": {
     "name": "#%%\n"
    }
   }
  },
  {
   "cell_type": "code",
   "execution_count": null,
   "outputs": [],
   "source": [
    "import pandas as pd\n",
    "\n",
    "df = pd.DataFrame({\n",
    "    'name':\n",
    "    ['orange','banana','lemon','mango','apple'],\n",
    "    'price':\n",
    "    [2,3,7,21,11],\n",
    "    'stock':\n",
    "    ['Yes','No','Yes','No','Yes']\n",
    "})\n",
    "print(df.iloc[2]['price'])\n",
    "print(df.iloc[2]['stock'])"
   ],
   "metadata": {
    "collapsed": false,
    "pycharm": {
     "name": "#%%\n"
    }
   }
  },
  {
   "cell_type": "code",
   "execution_count": null,
   "outputs": [],
   "source": [
    "myList = [10,20,30,40,50,60,70,80,90]\n",
    "myInt = 10\n",
    "newList = [x / myInt for x in myList]"
   ],
   "metadata": {
    "collapsed": false,
    "pycharm": {
     "name": "#%%\n"
    }
   }
  },
  {
   "cell_type": "code",
   "execution_count": null,
   "outputs": [],
   "source": [
    "import numpy\n",
    "myArray = numpy.array([10,20,30,40,50,60,70,80,90])\n",
    "myInt = 10\n",
    "newArray = myArray/myInt"
   ],
   "metadata": {
    "collapsed": false,
    "pycharm": {
     "name": "#%%\n"
    }
   }
  },
  {
   "cell_type": "code",
   "execution_count": null,
   "outputs": [],
   "source": [
    "df.describe()"
   ],
   "metadata": {
    "collapsed": false,
    "pycharm": {
     "name": "#%%\n"
    }
   }
  },
  {
   "cell_type": "code",
   "execution_count": null,
   "outputs": [],
   "source": [
    "df['IR'].mean()"
   ],
   "metadata": {
    "collapsed": false,
    "pycharm": {
     "name": "#%%\n"
    }
   }
  },
  {
   "cell_type": "code",
   "execution_count": null,
   "outputs": [],
   "source": [
    "reqd_Index = df_std_s[df_std_s['delFlow']>=3].index.tolist()\n",
    "print(reqd_Index)"
   ],
   "metadata": {
    "collapsed": false,
    "pycharm": {
     "name": "#%%\n"
    }
   }
  },
  {
   "cell_type": "code",
   "execution_count": null,
   "outputs": [],
   "source": [
    "a=df_std_s.drop(df_std_s.index[59])\n",
    "a.iloc[59]\n"
   ],
   "metadata": {
    "collapsed": false,
    "pycharm": {
     "name": "#%%\n"
    }
   }
  },
  {
   "cell_type": "markdown",
   "source": [
    "## package,  module"
   ],
   "metadata": {
    "collapsed": false
   }
  },
  {
   "cell_type": "code",
   "execution_count": null,
   "outputs": [],
   "source": [
    "# absolute path\n",
    "from t_Mod import square2\n",
    "\n",
    "print(square2.base)  # 모듈.변수 형식으로 모듈의 변수 사용\n",
    "print(square2.square(10))\n"
   ],
   "metadata": {
    "collapsed": false,
    "pycharm": {
     "name": "#%%\n"
    }
   }
  },
  {
   "cell_type": "code",
   "execution_count": null,
   "outputs": [],
   "source": [
    "from t_Mod import food\n",
    "print(food.name)\n",
    "print(food.cook())\n"
   ],
   "metadata": {
    "collapsed": false,
    "pycharm": {
     "name": "#%%\n"
    }
   }
  },
  {
   "cell_type": "code",
   "execution_count": null,
   "outputs": [],
   "source": [
    "from t_Mod import pers\n",
    "\n",
    "maria = pers.Person('마리아', 20, '서울시 서초구 반포동')\n",
    "maria.greeting()"
   ],
   "metadata": {
    "collapsed": false,
    "pycharm": {
     "name": "#%%\n"
    }
   }
  },
  {
   "cell_type": "code",
   "execution_count": null,
   "outputs": [],
   "source": [
    "from t_Mod.pers import Person\n",
    "maria = Person('마리아', 20, '서울시 서초구 반포동')\n",
    "maria.greeting()"
   ],
   "metadata": {
    "collapsed": false,
    "pycharm": {
     "name": "#%%\n"
    }
   }
  },
  {
   "cell_type": "code",
   "execution_count": null,
   "outputs": [],
   "source": [
    "from t_Mod.pers import Person2\n",
    "maria = Person2('마리아', 20, '서울시 서초구 반포동')\n",
    "maria.greeting()\n"
   ],
   "metadata": {
    "collapsed": false,
    "pycharm": {
     "name": "#%%\n"
    }
   }
  },
  {
   "cell_type": "code",
   "execution_count": null,
   "outputs": [],
   "source": [
    "#       결론적으로 if __name__ == '__main__' : 코드를 사용하게 되면 import 과정에서의\n",
    "#       불필요한 함수 호출을 막아 줄 수 있습니다.\n",
    "\n",
    "from t_Mod import mod1\n",
    "\n",
    "mod1.add(3,4)\n",
    "# not print     print(add(1, 4))  print(sub(4, 2))\n",
    "# if __name__ == \"__main__\" is not True"
   ],
   "metadata": {
    "collapsed": false,
    "pycharm": {
     "name": "#%%\n"
    }
   }
  },
  {
   "cell_type": "markdown",
   "source": [
    "### python absolute path & relative path\n"
   ],
   "metadata": {
    "collapsed": false,
    "pycharm": {
     "name": "#%% md\n"
    }
   }
  },
  {
   "cell_type": "code",
   "execution_count": null,
   "outputs": [],
   "source": [
    "import os\n",
    "# 현재 위치를 출력\n",
    "print(os.getcwd())"
   ],
   "metadata": {
    "collapsed": false,
    "pycharm": {
     "name": "#%%\n"
    }
   }
  },
  {
   "cell_type": "code",
   "execution_count": null,
   "outputs": [],
   "source": [
    "# 현재 위치를 절대 경로로 출력\n",
    "\n",
    "print(os.path.abspath('.'))"
   ],
   "metadata": {
    "collapsed": false,
    "pycharm": {
     "name": "#%%\n"
    }
   }
  },
  {
   "cell_type": "code",
   "execution_count": null,
   "outputs": [],
   "source": [
    "#가고 싶은 경로로 이동\n",
    "os.chdir(\"가고 싶은 경로\")"
   ],
   "metadata": {
    "collapsed": false,
    "pycharm": {
     "name": "#%%\n"
    }
   }
  },
  {
   "cell_type": "code",
   "execution_count": null,
   "outputs": [],
   "source": [
    "#  현재 내 위치가 어디든, 해당 파이썬 스크립트 파일의 절대 경로를 구할 수 있다\n",
    "#path = os.path.dirname(os.path.abspath(__file__))\n",
    "__file__ = 'main3.py'\n",
    "path = os.path.dirname(os.path.abspath(__file__))\n",
    "print(path)"
   ],
   "metadata": {
    "collapsed": false,
    "pycharm": {
     "name": "#%%\n"
    }
   }
  },
  {
   "cell_type": "code",
   "execution_count": null,
   "outputs": [],
   "source": [
    "# 경로가 존재하는지 확인\n",
    "# 미리 폴더를 만들어두지 않아도 되기 때문에 편하다!\n",
    "os.path.exists('경로 이름')\n",
    "if not os.path.exists('경로 이름'):\n",
    "\tos.mkdir('경로 이름')"
   ],
   "metadata": {
    "collapsed": false,
    "pycharm": {
     "name": "#%%\n"
    }
   }
  },
  {
   "cell_type": "code",
   "execution_count": null,
   "outputs": [],
   "source": [
    "print(os.path.abspath('.'))"
   ],
   "metadata": {
    "collapsed": false,
    "pycharm": {
     "name": "#%%\n"
    }
   }
  },
  {
   "cell_type": "code",
   "execution_count": null,
   "outputs": [],
   "source": [
    "os.chdir(\"H:\\90_PyCharmProject\\MyNotebook\\Pak_test\")\n",
    "print(os.path.abspath('.'))"
   ],
   "metadata": {
    "collapsed": false,
    "pycharm": {
     "name": "#%%\n"
    }
   }
  },
  {
   "cell_type": "code",
   "execution_count": null,
   "outputs": [],
   "source": [
    "# python Factorial.py -v"
   ],
   "metadata": {
    "collapsed": false,
    "pycharm": {
     "name": "#%%\n"
    }
   }
  },
  {
   "cell_type": "code",
   "execution_count": null,
   "outputs": [],
   "source": [
    "a = -1\n",
    "b = 1\n",
    "if a and b:\n",
    "    print(\"True\")\n",
    "else:\n",
    "    print(\"False\")"
   ],
   "metadata": {
    "collapsed": false,
    "pycharm": {
     "name": "#%%\n"
    }
   }
  },
  {
   "cell_type": "code",
   "execution_count": null,
   "outputs": [],
   "source": [
    "# a와 b가 모두 0이 아니면 True\n",
    "a = 1\n",
    "b = 2\n",
    "if a and b:\n",
    "    print(\"True\")\n",
    "else:\n",
    "    print(\"False\")"
   ],
   "metadata": {
    "collapsed": false,
    "pycharm": {
     "name": "#%%\n"
    }
   }
  },
  {
   "cell_type": "code",
   "execution_count": null,
   "outputs": [],
   "source": [
    "# a와 b가 모두 0이 아니면 True\n",
    "a = 0\n",
    "b = 1\n",
    "if a==0 and b==0 :\n",
    "    print(\"True\")\n",
    "else:\n",
    "    print(\"False\")\n"
   ],
   "metadata": {
    "collapsed": false,
    "pycharm": {
     "name": "#%%\n"
    }
   }
  },
  {
   "cell_type": "code",
   "execution_count": null,
   "outputs": [],
   "source": [
    "my_var = 5\n",
    "my_var_name = [ k for k,v in locals().iteritems() if v == my_var][0]\n",
    "my_var_name"
   ],
   "metadata": {
    "collapsed": false,
    "pycharm": {
     "name": "#%%\n"
    }
   }
  },
  {
   "cell_type": "markdown",
   "source": [
    "#### Pandas"
   ],
   "metadata": {
    "collapsed": false,
    "pycharm": {
     "name": "#%% md\n"
    }
   }
  },
  {
   "cell_type": "code",
   "execution_count": null,
   "outputs": [],
   "source": [
    "df = pd.DataFrame(np.random.randn(5,3),columns=list('ABC'))\n",
    "df"
   ],
   "metadata": {
    "collapsed": false,
    "pycharm": {
     "name": "#%%\n"
    }
   }
  },
  {
   "cell_type": "code",
   "execution_count": null,
   "outputs": [],
   "source": [
    "df.iat[0,0]"
   ],
   "metadata": {
    "collapsed": false,
    "pycharm": {
     "name": "#%%\n"
    }
   }
  },
  {
   "cell_type": "code",
   "execution_count": null,
   "outputs": [],
   "source": [
    "df.at[0,'A']"
   ],
   "metadata": {
    "collapsed": false,
    "pycharm": {
     "name": "#%%\n"
    }
   }
  },
  {
   "cell_type": "code",
   "execution_count": null,
   "outputs": [],
   "source": [
    "df.iloc[0]"
   ],
   "metadata": {
    "collapsed": false,
    "pycharm": {
     "name": "#%%\n"
    }
   }
  },
  {
   "cell_type": "code",
   "execution_count": null,
   "outputs": [],
   "source": [
    "df.iloc[0]['A']"
   ],
   "metadata": {
    "collapsed": false,
    "pycharm": {
     "name": "#%%\n"
    }
   }
  },
  {
   "cell_type": "code",
   "execution_count": null,
   "outputs": [],
   "source": [
    "import tensorflow as tf\n",
    "\n",
    "a = tf.Variable(2)\n",
    "a.assign(5)\n",
    "assert a.numpy() == 5"
   ],
   "metadata": {
    "collapsed": false,
    "pycharm": {
     "name": "#%%\n"
    }
   }
  },
  {
   "cell_type": "code",
   "execution_count": null,
   "outputs": [],
   "source": [
    "a1 = 10\n",
    "type(a1)"
   ],
   "metadata": {
    "collapsed": false,
    "pycharm": {
     "name": "#%%\n"
    }
   }
  },
  {
   "cell_type": "code",
   "execution_count": null,
   "outputs": [],
   "source": [
    "a1 = tf.\n",
    "a1 = a2\n",
    "print(a1)\n",
    "type(a1)\n",
    "type(a2)\n"
   ],
   "metadata": {
    "collapsed": false,
    "pycharm": {
     "name": "#%%\n"
    }
   }
  },
  {
   "cell_type": "code",
   "execution_count": null,
   "outputs": [],
   "source": [
    "v.assign_add(0.5)"
   ],
   "metadata": {
    "collapsed": false,
    "pycharm": {
     "name": "#%%\n"
    }
   }
  },
  {
   "cell_type": "code",
   "execution_count": null,
   "outputs": [],
   "source": [
    "import numpy as np\n",
    "import tensorflow as tf\n",
    "################################################# mapping\n",
    "def map_fn(fea ):\n",
    "  global gt\n",
    "  gt = np.array([[100,100],[1,10]])\n",
    "  global f3\n",
    "  f1 = fea[:, 0:2, :]\n",
    "  f2 = fea[:, 1:, :]\n",
    "  f3 = fea[:, -1:, :]\n",
    "  print(f1)\n",
    "#  print(f'*** f2 = {f2}')\n",
    "\n",
    "#  print(f'*** f3 = {f3}')\n",
    "\n",
    "#  f3 = [100, 10]\n",
    "  return f1, f2\n",
    "#  return f1, f2\n",
    "\n",
    "def map_fn2(fea ):\n",
    "#  global f3\n",
    "  f1 = fea[:, 0:2, :]\n",
    "  f2 = fea[:, 1:, :]\n",
    "  f3 = fea[:, -1:, :]\n",
    "\n",
    "#  print(f'*** f2 = {f2}')\n",
    "\n",
    "#  print(f'*** f3 = {f3}')\n",
    "\n",
    "#  f3 = [100, 10]\n",
    "  return f3\n",
    "\n",
    "x =np.array([[[[1, 2, 3],\n",
    "               [2, 3, 4],\n",
    "               [3, 4, 5]],\n",
    "     [[11, 12, 13],\n",
    "      [12, 13, 14],\n",
    "      [13, 14, 15]],\n",
    "     ],\n",
    "            [[[21, 22, 23],\n",
    "              [22, 23, 24],\n",
    "              [23, 24, 25]],\n",
    "      [[31, 32, 33],\n",
    "      [32, 33, 34],\n",
    "      [33, 34, 35]],\n",
    "     ]])\n",
    "print(x.shape)\n",
    "dataset = tf.data.Dataset.from_tensor_slices(x)\n",
    "\n",
    "dataset1 = dataset.map(map_fn)\n",
    "\n",
    "for i, batch in enumerate(dataset1)  :\n",
    "    f = batch\n",
    "#    f1, f2= batch\n",
    "    #print(f[0][0,0])\n",
    "\n",
    "\n",
    "    print(x[0][0])\n",
    "\n",
    "    x[0][0]=f[0][0][0]\n",
    "\n",
    "    print(x[0][0])\n",
    "\n",
    "#    print(f'*** f1 = {f1}')\n",
    "#    print(f'*** f2 = {f2}')\n",
    "#print(f'*** f3 = {f3}')\n",
    "#print (f1.shape)\n",
    "#print (f2.shape)\n",
    "print(gt)\n",
    "\n",
    "#result = next(iter(f3))\n",
    "#print(f'result = {result}')"
   ],
   "metadata": {
    "collapsed": false,
    "pycharm": {
     "name": "#%%\n"
    }
   }
  },
  {
   "cell_type": "code",
   "execution_count": null,
   "outputs": [],
   "source": [
    "x = tf.constant([1., 2.])\n",
    "print(type(x))            # <type 'EagerTensor'>\n",
    "print(type(x.numpy()))    # <type 'numpy.ndarray'>\n",
    "print(type(np.array(x)))  # <type 'numpy.ndarray'>"
   ],
   "metadata": {
    "collapsed": false,
    "pycharm": {
     "name": "#%%\n"
    }
   }
  },
  {
   "cell_type": "code",
   "execution_count": null,
   "outputs": [],
   "source": [
    "print(x[0])"
   ],
   "metadata": {
    "collapsed": false,
    "pycharm": {
     "name": "#%%\n"
    }
   }
  },
  {
   "cell_type": "code",
   "execution_count": null,
   "outputs": [],
   "source": [
    "x = tf.constant([1., 2.])\n",
    "\n",
    "a_tensor = x\n",
    "#print(type(x))\n",
    "\n",
    "a_list = tf.unstack(a_tensor)\n",
    "\n",
    "a_list[50:55] = [np.nan for i in range(6)]\n",
    "\n",
    "a_tensor = tf.stack(a_list)\n",
    "print(type(a_tensor))\n",
    "print(a_tensor[0])\n",
    "#a_tensor[0] = 3"
   ],
   "metadata": {
    "collapsed": false,
    "pycharm": {
     "name": "#%%\n"
    }
   }
  },
  {
   "cell_type": "code",
   "execution_count": null,
   "outputs": [],
   "source": [
    "aa=tf.Variable(tf.zeros(3, tf.int32))\n",
    "aa=aa[2].assign(1)\n",
    "print(aa)"
   ],
   "metadata": {
    "collapsed": false,
    "pycharm": {
     "name": "#%%\n"
    }
   }
  },
  {
   "cell_type": "code",
   "execution_count": null,
   "outputs": [],
   "source": [
    "import tensorflow as tf\n",
    "x = tf.zeros(shape=[5],dtype=tf.float32)\n",
    "x[1]=0"
   ],
   "metadata": {
    "collapsed": false,
    "pycharm": {
     "name": "#%%\n"
    }
   }
  },
  {
   "cell_type": "markdown",
   "source": [
    "You can't do this in Tensorflow.\n",
    "\n",
    "For reference see: https://github.com/tensorflow/tensorflow/issues/33131"
   ],
   "metadata": {
    "collapsed": false,
    "pycharm": {
     "name": "#%% md\n"
    }
   }
  },
  {
   "cell_type": "code",
   "execution_count": null,
   "outputs": [],
   "source": [
    "x = tf.Variable(tf.zeros(shape=[5],dtype=tf.float32))\n",
    "print(x)\n",
    "#indices = tf.stack([rows, columns], axis=1)\n",
    "indices = tf.stack([0, 1])\n",
    "#target_new = tf.tensor_scatter_nd_update(x, indices, values)\n",
    "target_new = tf.tensor_scatter_nd_update(x, indices, 5)\n",
    "\n",
    "print(target_new)\n",
    "#x[1]=0"
   ],
   "metadata": {
    "collapsed": false,
    "pycharm": {
     "name": "#%%\n"
    }
   }
  },
  {
   "cell_type": "code",
   "execution_count": null,
   "outputs": [],
   "source": [
    "target_np = x.numpy()\n",
    "#target_np[[rows], [columns]] = values\n",
    "target_np[1] = 3\n",
    "print(target_np)\n",
    "print(type(target_np))\n",
    "\n",
    "#target = tf.Variable(...)"
   ],
   "metadata": {
    "collapsed": false,
    "pycharm": {
     "name": "#%%\n"
    }
   }
  },
  {
   "cell_type": "code",
   "execution_count": null,
   "outputs": [],
   "source": [
    "import numpy as np\n",
    "def my_func(arg):\n",
    "  arg = tf.convert_to_tensor(arg, dtype=tf.float32)\n",
    "  return arg\n",
    "# The following calls are equivalent.\n",
    "\n",
    "value_1 = my_func(tf.constant([[1.0, 2.0], [3.0, 4.0]]))\n",
    "print(value_1)\n",
    "\n",
    "value_2 = my_func([[1.0, 2.0], [3.0, 4.0]])\n",
    "print(value_2)\n",
    "\n",
    "value_3 = my_func(np.array([[1.0, 2.0], [3.0, 4.0]], dtype=np.float32))\n",
    "print(value_3)"
   ],
   "metadata": {
    "collapsed": false,
    "pycharm": {
     "name": "#%%\n"
    }
   }
  },
  {
   "cell_type": "markdown",
   "source": [
    "### eager tensor to numpy array vise versa"
   ],
   "metadata": {
    "collapsed": false,
    "pycharm": {
     "name": "#%% md\n"
    }
   }
  },
  {
   "cell_type": "code",
   "execution_count": 138,
   "outputs": [
    {
     "name": "stdout",
     "output_type": "stream",
     "text": [
      "tf.Tensor(\n",
      "[[1. 2.]\n",
      " [3. 4.]], shape=(2, 2), dtype=float32)\n",
      "<class 'numpy.ndarray'>\n",
      "<class 'tensorflow.python.framework.ops.EagerTensor'>\n",
      "<class 'numpy.ndarray'>\n",
      "tf.Tensor(\n",
      "[[1. 2.]\n",
      " [3. 4.]], shape=(2, 2), dtype=float32)\n"
     ]
    }
   ],
   "source": [
    "tfx = tf.constant([[1.0, 2.0], [3.0, 4.0]])\n",
    "print(tfx)\n",
    "\n",
    "num_tfx = tfx.numpy()\n",
    "print(type(num_tfx))\n",
    "\n",
    "tf_tfx = tf.convert_to_tensor(num_tfx, dtype=tf.float32)\n",
    "print(type(tf_tfx))\n",
    "print(type(num_tfx))\n",
    "\n",
    "num_tfx = tf.convert_to_tensor(num_tfx, dtype=tf.float32)\n",
    "print(num_tfx)"
   ],
   "metadata": {
    "collapsed": false,
    "pycharm": {
     "name": "#%%\n"
    }
   }
  },
  {
   "cell_type": "code",
   "execution_count": null,
   "outputs": [],
   "source": [
    "df_stacked = train_df_4.stack()\n",
    "df_stacked\n",
    "df_unstacked = df_stacked.unstack()\n",
    "df_unstacked\n"
   ],
   "metadata": {
    "collapsed": false,
    "pycharm": {
     "name": "#%%\n"
    }
   }
  },
  {
   "cell_type": "code",
   "execution_count": null,
   "outputs": [],
   "source": [
    "#Example 1: Add Row to DataFrame\n",
    "# https://pythonexamples.org/pandas-dataframe-add-append-row/\n",
    "import pandas as pd\n",
    "\n",
    "data = {'name': ['Somu', 'Kiku', 'Amol', 'Lini'],\n",
    "\t'physics': [68, 74, 77, 78],\n",
    "\t'chemistry': [84, 56, 73, 69],\n",
    "\t'algebra': [78, 88, 82, 87]}\n",
    "\n",
    "\n",
    "#create dataframe\n",
    "df_marks = pd.DataFrame(data)\n",
    "print('Original DataFrame\\n------------------')\n",
    "print(df_marks)\n",
    "\n",
    "new_row = {'name':'Geo', 'physics':87, 'chemistry':92, 'algebra':97}\n",
    "#append row to the dataframe\n",
    "df_marks = df_marks.append(new_row, ignore_index=True)\n",
    "\n",
    "print('\\n\\nNew row added to DataFrame\\n--------------------------')\n",
    "print(df_marks)\n"
   ],
   "metadata": {
    "collapsed": false,
    "pycharm": {
     "name": "#%%\n"
    }
   }
  },
  {
   "cell_type": "code",
   "execution_count": null,
   "outputs": [],
   "source": [
    "# Example 2: Add Row to Pandas DataFrame (ignoreIndex = False)\n",
    "data = {'name': ['Amol', 'Lini'],\n",
    "\t'physics': [77, 78],\n",
    "\t'chemistry': [73, 85]}\n",
    "\n",
    "#create dataframe\n",
    "df_marks = pd.DataFrame(data)\n",
    "print('Original DataFrame\\n------------------')\n",
    "print(df_marks)\n",
    "\n",
    "new_row = {'name':'Geo', 'physics':87, 'chemistry':92}\n",
    "#append row to the dataframe\n",
    "df_marks = df_marks.append(new_row, ignore_index=False)\n",
    "\n",
    "print('\\n\\nNew row added to DataFrame\\n--------------------------')\n",
    "print(df_marks)"
   ],
   "metadata": {
    "collapsed": false,
    "pycharm": {
     "name": "#%%\n"
    }
   }
  },
  {
   "cell_type": "code",
   "execution_count": null,
   "outputs": [],
   "source": [
    "data = {'name': ['Amol', 'Lini'],\n",
    "\t'physics': [77, 78],\n",
    "\t'chemistry': [73, 85]}\n",
    "\n",
    "#create dataframe\n",
    "df_marks = pd.DataFrame(data)\n",
    "print('Original DataFrame\\n------------------')\n",
    "print(df_marks)\n",
    "\n",
    "new_row = pd.Series(data={'name':'Geo', 'physics':87, 'chemistry':92}, name='x')\n",
    "#append row to the dataframe\n",
    "df_marks = df_marks.append(new_row, ignore_index=False)\n",
    "\n",
    "print('\\n\\nNew row added to DataFrame\\n--------------------------')\n",
    "print(df_marks)\n",
    "\n",
    "#df6 = df.append(pd.Series(row, index=df.columns), ignore_index=True)"
   ],
   "metadata": {
    "collapsed": false,
    "pycharm": {
     "name": "#%%\n"
    }
   }
  },
  {
   "cell_type": "code",
   "execution_count": null,
   "outputs": [],
   "source": [
    "t = tf.constant([[[1, 1, 1], [2, 2, 2]],\n",
    "                 [[3, 3, 3], [4, 4, 4]],\n",
    "                 [[5, 5, 5], [6, 6, 6]]])\n",
    "\n",
    "t\n",
    "# 원본 t에서 시작위치 [1, 0, 0]은 [3, 3, 3] 리스트의 맨 앞 [3] 이다.\n",
    "# 시작 위치에서 [1, 1, 3] shape으로 내용물을 꺼내오면,\n",
    "# 총 1*1*3 개의 원소가 차례대로 선택되고\n",
    "# 그 결과는 [[[3, 3, 3]]] 이 된다.\n",
    "tf.slice(t, [1, 0, 0], [1, 1, 3])\n",
    "\n",
    "\n",
    "# 같은 위치에서 1*2*3 개의 원소를 [1, 2, 3] shape으로 꺼내오면,\n",
    "# [[[3, 3, 3],\n",
    "#   [4, 4, 4]]]\n",
    "tf.slice(t, [1, 0, 0], [1, 2, 3])\n",
    "\n",
    "\n",
    "# 같은 원리로 아래의 결과를 생각해보자\n",
    "tf.slice(t, [1, 0, 0], [2, 1, 3])\n",
    "\n",
    "# [[[3, 3, 3]],\n",
    "#  [[5, 5, 5]]]"
   ],
   "metadata": {
    "collapsed": false,
    "pycharm": {
     "name": "#%%\n"
    }
   }
  },
  {
   "cell_type": "code",
   "execution_count": null,
   "outputs": [],
   "source": [
    "image = tf.zeros([10,10,3])\n",
    "tf.expand_dims(image, axis=0).shape.as_list()"
   ],
   "metadata": {
    "collapsed": false,
    "pycharm": {
     "name": "#%%\n"
    }
   }
  },
  {
   "cell_type": "code",
   "execution_count": null,
   "outputs": [],
   "source": [
    "df_stacked = train_df_4.stack()\n",
    "df_stacked\n",
    "df_unstacked = df_stacked.unstack()\n",
    "df_unstacked\n",
    "\n",
    "#train_df_4.append(crv_4.iloc[4:5], ignore_index=False)"
   ],
   "metadata": {
    "collapsed": false,
    "pycharm": {
     "name": "#%%\n"
    }
   }
  },
  {
   "cell_type": "code",
   "execution_count": null,
   "outputs": [],
   "source": [
    "listA = ['Stranger Things', 'S Education', 'Game of Thrones']\n",
    "if 'Witcher' not in listA:\n",
    "    print(\"Yes, 'Witcher' is not found in List : \", listA)\n"
   ],
   "metadata": {
    "collapsed": false,
    "pycharm": {
     "name": "#%%\n"
    }
   }
  },
  {
   "cell_type": "code",
   "execution_count": null,
   "outputs": [],
   "source": [
    "in3 = np.array(inputs, dtype=np.float32)\n",
    "#in3 = tf.convert_to_tensor(data, dtype=tf.float32)\n",
    "\n",
    "in3 = in3.reshape(128,5)\n",
    "in3.shape\n",
    "in3 = tf.convert_to_tensor(in3, dtype=tf.float32)"
   ],
   "metadata": {
    "collapsed": false,
    "pycharm": {
     "name": "#%%\n"
    }
   }
  },
  {
   "cell_type": "code",
   "execution_count": null,
   "outputs": [],
   "source": [
    "input_indices[:128]"
   ],
   "metadata": {
    "collapsed": false,
    "pycharm": {
     "name": "#%%\n"
    }
   }
  },
  {
   "cell_type": "code",
   "execution_count": 21,
   "outputs": [
    {
     "data": {
      "text/plain": "<tf.Tensor: shape=(3, 3, 5), dtype=float32, numpy=\narray([[[-1.1992189 , -0.08492191, -0.6006319 ,  0.58117914,\n         -0.57208365],\n        [ 1.1605805 , -1.4304852 ,  0.51670855, -0.9219304 ,\n         -1.3368652 ],\n        [-2.2306798 ,  0.3275675 ,  1.7608384 ,  0.50632995,\n          1.4048254 ]],\n\n       [[-0.06618704,  0.14390627,  0.9907428 ,  0.7653818 ,\n         -0.12923397],\n        [-1.4712389 ,  0.6535958 ,  0.3802881 ,  0.8581643 ,\n         -2.176021  ],\n        [ 1.4499946 , -0.7457149 ,  1.0336552 ,  0.93954664,\n         -0.34274918]],\n\n       [[-1.1048726 , -0.01138497,  2.6987534 ,  0.33183742,\n          0.79427296],\n        [-1.042258  ,  0.04084486, -2.6640432 , -0.74249166,\n          1.3693211 ],\n        [-0.82288307, -1.5439904 ,  0.24114606, -0.51325905,\n         -0.9120004 ]]], dtype=float32)>"
     },
     "execution_count": 21,
     "metadata": {},
     "output_type": "execute_result"
    }
   ],
   "source": [
    "inputs = tf.random.normal([3, 3, 5])\n",
    "\n",
    "#inputs[0,:,:]\n",
    "\n",
    "c = tf.concat([inputs[0,:,:],inputs[1,:,:]], axis =0)\n",
    "d = tf.concat(inputs[:,:,:], axis =0)\n",
    "#c\n",
    "d"
   ],
   "metadata": {
    "collapsed": false,
    "pycharm": {
     "name": "#%%\n"
    }
   }
  },
  {
   "cell_type": "markdown",
   "source": [
    "#### concat\n",
    "#### tensor to np.array\n",
    "#### array to tensor\n",
    "#### make random input data\n",
    "#### data change in tensor 210510\n",
    "###### tensorflow.python.framework.ops.EagerTensor' object does not support item assignment"
   ],
   "metadata": {
    "collapsed": false,
    "pycharm": {
     "name": "#%% md\n"
    }
   }
  },
  {
   "cell_type": "code",
   "execution_count": 182,
   "outputs": [
    {
     "name": "stdout",
     "output_type": "stream",
     "text": [
      "tf.Tensor(\n",
      "[[[-0.922097  ]\n",
      "  [-1.4886107 ]\n",
      "  [ 1.0644705 ]\n",
      "  [ 2.0128517 ]\n",
      "  [-0.850627  ]\n",
      "  [ 1.1886556 ]\n",
      "  [ 0.20407589]\n",
      "  [ 1.6366599 ]\n",
      "  [-0.5275913 ]\n",
      "  [ 0.84172046]]], shape=(1, 10, 1), dtype=float32)\n",
      "tf.Tensor(\n",
      "[[[-0.8742787 ]\n",
      "  [-1.6555616 ]\n",
      "  [ 0.77544475]\n",
      "  [ 1.0105562 ]\n",
      "  [-0.0035273 ]\n",
      "  [ 0.61887723]\n",
      "  [ 0.6727382 ]\n",
      "  [-1.0078287 ]]], shape=(1, 8, 1), dtype=float32)\n"
     ]
    }
   ],
   "source": [
    "input = tf.random.normal([1, 10, 1])\n",
    "print(input)\n",
    "pred = tf.random.normal([1, 8, 1])\n",
    "#d = tf.concat(pred[:,:,:], axis =0)\n",
    "print(pred)"
   ],
   "metadata": {
    "collapsed": false,
    "pycharm": {
     "name": "#%%\n"
    }
   }
  },
  {
   "cell_type": "code",
   "execution_count": 174,
   "outputs": [
    {
     "data": {
      "text/plain": "array([-1.6100136 , -0.05378608,  0.08858685, -0.32228482,  0.02953889,\n       -1.0837955 ,  0.03732523,  1.6733576 ], dtype=float32)"
     },
     "execution_count": 174,
     "metadata": {},
     "output_type": "execute_result"
    }
   ],
   "source": [
    "input.numpy()[0,2:,0]"
   ],
   "metadata": {
    "collapsed": false,
    "pycharm": {
     "name": "#%%\n"
    }
   }
  },
  {
   "cell_type": "code",
   "execution_count": 175,
   "outputs": [
    {
     "data": {
      "text/plain": "array([-0.1513127 ,  0.24781895,  0.7821905 ,  0.24406347, -0.27754393,\n       -1.3795861 ,  0.08722548, -0.9158229 ], dtype=float32)"
     },
     "execution_count": 175,
     "metadata": {},
     "output_type": "execute_result"
    }
   ],
   "source": [
    "pred.numpy()[0, : , 0]"
   ],
   "metadata": {
    "collapsed": false,
    "pycharm": {
     "name": "#%%\n"
    }
   }
  },
  {
   "cell_type": "code",
   "execution_count": 176,
   "outputs": [
    {
     "data": {
      "text/plain": "<tf.Tensor: shape=(8,), dtype=float32, numpy=\narray([-1.6100136 , -0.05378608,  0.08858685, -0.32228482,  0.02953889,\n       -1.0837955 ,  0.03732523,  1.6733576 ], dtype=float32)>"
     },
     "execution_count": 176,
     "metadata": {},
     "output_type": "execute_result"
    }
   ],
   "source": [
    "input[0, 2:, 0]"
   ],
   "metadata": {
    "collapsed": false,
    "pycharm": {
     "name": "#%%\n"
    }
   }
  },
  {
   "cell_type": "code",
   "execution_count": 177,
   "outputs": [
    {
     "data": {
      "text/plain": "<tf.Tensor: shape=(8,), dtype=float32, numpy=\narray([-0.1513127 ,  0.24781895,  0.7821905 ,  0.24406347, -0.27754393,\n       -1.3795861 ,  0.08722548, -0.9158229 ], dtype=float32)>"
     },
     "execution_count": 177,
     "metadata": {},
     "output_type": "execute_result"
    }
   ],
   "source": [
    "pred[0, :, 0]\n"
   ],
   "metadata": {
    "collapsed": false,
    "pycharm": {
     "name": "#%%\n"
    }
   }
  },
  {
   "cell_type": "code",
   "execution_count": 187,
   "outputs": [
    {
     "data": {
      "text/plain": "<tf.Tensor: shape=(1, 10, 1), dtype=float32, numpy=\narray([[[-0.922097  ],\n        [-1.4886107 ],\n        [-0.8742787 ],\n        [-1.6555616 ],\n        [ 0.77544475],\n        [ 1.0105562 ],\n        [-0.0035273 ],\n        [ 0.61887723],\n        [ 0.6727382 ],\n        [-1.0078287 ]]], dtype=float32)>"
     },
     "execution_count": 187,
     "metadata": {},
     "output_type": "execute_result"
    }
   ],
   "source": [
    "input = np.array(input, dtype=np.float32)\n",
    "pred = np.array(pred, dtype=np.float32)\n",
    "#input = input.numpy()\n",
    "#pred =  pred.numpy()\n",
    "\n",
    "input[0, 2:, 0] =pred[0, : , 0]\n",
    "\n",
    "input = tf.convert_to_tensor(input, dtype=tf.float32)\n",
    "\n",
    "input\n",
    "\n"
   ],
   "metadata": {
    "collapsed": false,
    "pycharm": {
     "name": "#%%\n"
    }
   }
  },
  {
   "cell_type": "code",
   "execution_count": 116,
   "outputs": [
    {
     "data": {
      "text/plain": "<tf.Tensor: shape=(1, 8, 1), dtype=float32, numpy=\narray([[[-0.70207846],\n        [-1.0912844 ],\n        [ 1.5747566 ],\n        [ 0.9548585 ],\n        [-0.89758736],\n        [ 0.19189845],\n        [ 0.708698  ],\n        [ 0.28749093]]], dtype=float32)>"
     },
     "execution_count": 116,
     "metadata": {},
     "output_type": "execute_result"
    }
   ],
   "source": [
    "pred = tf.convert_to_tensor(pred, dtype=tf.float32)\n",
    "pred\n",
    "#tf.reshape(pred[1,8])\n",
    "d = tf.concat(pred[:,:,:], axis =0)\n",
    "d"
   ],
   "metadata": {
    "collapsed": false,
    "pycharm": {
     "name": "#%%\n"
    }
   }
  },
  {
   "cell_type": "code",
   "execution_count": 117,
   "outputs": [
    {
     "data": {
      "text/plain": "[<tf.Tensor: shape=(8, 1), dtype=float32, numpy=\n array([[-0.70207846],\n        [-1.0912844 ],\n        [ 1.5747566 ],\n        [ 0.9548585 ],\n        [-0.89758736],\n        [ 0.19189845],\n        [ 0.708698  ],\n        [ 0.28749093]], dtype=float32)>]"
     },
     "execution_count": 117,
     "metadata": {},
     "output_type": "execute_result"
    }
   ],
   "source": [
    "a1 = [tf.concat(t, axis=0) for t in pred]\n",
    "a1\n",
    "a1[:]"
   ],
   "metadata": {
    "collapsed": false,
    "pycharm": {
     "name": "#%%\n"
    }
   }
  },
  {
   "cell_type": "code",
   "execution_count": 110,
   "outputs": [
    {
     "data": {
      "text/plain": "<tf.Tensor: shape=(8,), dtype=float32, numpy=\narray([-0.70207846, -1.0912844 ,  1.5747566 ,  0.9548585 , -0.89758736,\n        0.19189845,  0.708698  ,  0.28749093], dtype=float32)>"
     },
     "execution_count": 110,
     "metadata": {},
     "output_type": "execute_result"
    }
   ],
   "source": [
    "pred[0, :, 0]"
   ],
   "metadata": {
    "collapsed": false,
    "pycharm": {
     "name": "#%%\n"
    }
   }
  },
  {
   "cell_type": "code",
   "execution_count": 111,
   "outputs": [
    {
     "data": {
      "text/plain": "<tf.Tensor: shape=(8,), dtype=float32, numpy=\narray([-0.7123094 , -0.53027624,  1.8082306 , -2.0559747 , -1.0356419 ,\n       -0.31874084,  0.613668  , -0.2060257 ], dtype=float32)>"
     },
     "execution_count": 111,
     "metadata": {},
     "output_type": "execute_result"
    }
   ],
   "source": [
    "input[0, 2:, 0]"
   ],
   "metadata": {
    "collapsed": false,
    "pycharm": {
     "name": "#%%\n"
    }
   }
  },
  {
   "cell_type": "markdown",
   "source": [
    "#### broadcasting\n",
    "--> 115                     inputs[n+1, m: , 1] = predictions[:,:,:]\n",
    "\n",
    "ValueError: could not broadcast input array from shape (8,1) into shape (8)\n"
   ],
   "metadata": {
    "collapsed": false,
    "pycharm": {
     "name": "#%% md\n"
    }
   }
  },
  {
   "cell_type": "code",
   "execution_count": 6,
   "outputs": [
    {
     "name": "stdout",
     "output_type": "stream",
     "text": [
      "<class 'numpy.ndarray'>\n",
      "[1, 2, 3]\n",
      "<class 'list'>\n",
      "<class 'list'>\n"
     ]
    }
   ],
   "source": [
    "# array to list\n",
    "a = np.array([1,2,3])\n",
    "print(type(a))\n",
    "print(a.tolist())\n",
    "print(type(a.tolist()))"
   ],
   "metadata": {
    "collapsed": false,
    "pycharm": {
     "name": "#%%\n"
    }
   }
  },
  {
   "cell_type": "code",
   "execution_count": 8,
   "outputs": [
    {
     "name": "stdout",
     "output_type": "stream",
     "text": [
      "<class 'list'>\n",
      "[1 2 4]\n"
     ]
    }
   ],
   "source": [
    "# list to array\n",
    "a = [1,2,4]\n",
    "print(type(a))\n",
    "print(np.array(a))\n",
    "\n",
    "\n"
   ],
   "metadata": {
    "collapsed": false,
    "pycharm": {
     "name": "#%%\n"
    }
   }
  },
  {
   "cell_type": "code",
   "execution_count": 8,
   "outputs": [
    {
     "name": "stdout",
     "output_type": "stream",
     "text": [
      "(32, 4)\n",
      "[<tf.Tensor: shape=(32, 4), dtype=float32, numpy=\n",
      "array([[-0.186246  , -0.01687988, -0.23344022, -0.08583435],\n",
      "       [-0.11673451,  0.20886844,  0.05403797, -0.12047616],\n",
      "       [-0.34784317, -0.13324623,  0.13932215,  0.01962071],\n",
      "       [ 0.09437926, -0.06745613, -0.06535088, -0.06398185],\n",
      "       [ 0.13044865,  0.09223033, -0.05408803,  0.27912924],\n",
      "       [ 0.08348051, -0.08594357,  0.07715251,  0.00780781],\n",
      "       [-0.1683618 ,  0.4246149 ,  0.02635312,  0.15378694],\n",
      "       [ 0.02286682, -0.08287387, -0.07704694,  0.3811638 ],\n",
      "       [ 0.05988577,  0.09488068, -0.13446   ,  0.10996314],\n",
      "       [ 0.30855674,  0.02359222, -0.05502774,  0.1829577 ],\n",
      "       [-0.27799645,  0.10118194,  0.17941703,  0.09906186],\n",
      "       [ 0.05431569, -0.04709064, -0.21235017, -0.19295847],\n",
      "       [-0.10265991, -0.17670444, -0.33329934,  0.1146752 ],\n",
      "       [-0.00663851, -0.0111086 , -0.09013867, -0.09130759],\n",
      "       [-0.0654614 , -0.08488912, -0.08982382, -0.28213036],\n",
      "       [ 0.07720286,  0.17179558,  0.41411594, -0.20218426],\n",
      "       [ 0.05292478, -0.10749954,  0.05735033, -0.18500195],\n",
      "       [-0.1775994 , -0.11861181, -0.11062254, -0.16197877],\n",
      "       [ 0.25556278,  0.05415155,  0.16464345, -0.34620658],\n",
      "       [ 0.18683216, -0.07214653,  0.17691107, -0.18113582],\n",
      "       [ 0.1269927 , -0.17384249,  0.33093527, -0.09940372],\n",
      "       [-0.17109711,  0.00984548, -0.19243068, -0.03056828],\n",
      "       [ 0.2085068 ,  0.10996394, -0.04002709,  0.08794088],\n",
      "       [-0.08179956, -0.24525335,  0.15321359, -0.2582565 ],\n",
      "       [-0.13896808, -0.08970958,  0.28301018, -0.13945712],\n",
      "       [ 0.06542689,  0.13013162,  0.15367493, -0.17733343],\n",
      "       [-0.17875504,  0.21053733, -0.03283415, -0.21076657],\n",
      "       [-0.22166105,  0.31659025, -0.2063973 , -0.1849912 ],\n",
      "       [-0.53954965,  0.18791305,  0.1825095 ,  0.13678046],\n",
      "       [-0.27521765, -0.02600772, -0.05002885,  0.23985808],\n",
      "       [ 0.0035027 ,  0.0997476 , -0.02932619, -0.0211562 ],\n",
      "       [ 0.06847252,  0.2581266 ,  0.03845764,  0.04561113]],\n",
      "      dtype=float32)>, <tf.Tensor: shape=(32, 4), dtype=float32, numpy=\n",
      "array([[-0.48666745, -0.04604631, -0.5188108 , -0.16718519],\n",
      "       [-0.21960211,  0.3448696 ,  0.08964226, -0.38024083],\n",
      "       [-0.6968257 , -0.30802333,  0.20214103,  0.04696878],\n",
      "       [ 0.3078059 , -0.2697616 , -0.18130726, -0.10690859],\n",
      "       [ 0.23218283,  0.2634883 , -0.35550934,  0.67470455],\n",
      "       [ 0.1489189 , -0.8038322 ,  0.15906626,  0.01283935],\n",
      "       [-0.40109104,  0.69093776,  0.0437343 ,  0.32162187],\n",
      "       [ 0.03568079, -1.0818634 , -0.35143057,  0.681262  ],\n",
      "       [ 0.1508789 ,  0.28998965, -0.26187396,  0.19716164],\n",
      "       [ 0.7853291 ,  0.05868533, -0.0888741 ,  0.4051382 ],\n",
      "       [-0.52773535,  0.13678935,  0.38390028,  0.2138147 ],\n",
      "       [ 0.08318746, -0.13761438, -0.62931836, -0.31506157],\n",
      "       [-0.23682605, -0.3861258 , -0.6874776 ,  0.26192403],\n",
      "       [-0.025233  , -0.04656909, -0.3557161 , -0.13415162],\n",
      "       [-0.24182466, -0.24128592, -0.13000748, -0.5971693 ],\n",
      "       [ 0.3345272 ,  0.19505349,  0.84054255, -0.47692865],\n",
      "       [ 0.1084118 , -0.44145846,  0.12988952, -0.24149327],\n",
      "       [-0.45274496, -0.5773525 , -0.24837671, -0.25079662],\n",
      "       [ 0.43153098,  0.08218915,  0.40909553, -0.6014351 ],\n",
      "       [ 0.6759524 , -0.4816081 ,  0.37328646, -0.33508402],\n",
      "       [ 0.2218458 , -0.26352182,  0.54636145, -0.24732527],\n",
      "       [-0.3084046 ,  0.02495827, -0.2617371 , -0.07328058],\n",
      "       [ 0.28085956,  0.21088172, -0.11618204,  0.15245569],\n",
      "       [-0.49617594, -0.83219486,  0.23324537, -0.6214944 ],\n",
      "       [-0.2854569 , -0.14838007,  0.4593677 , -0.3592713 ],\n",
      "       [ 0.16521242,  0.22130375,  0.28017175, -0.39147913],\n",
      "       [-0.36297396,  0.37907678, -0.05183938, -0.39338908],\n",
      "       [-0.7340157 ,  0.4989004 , -0.506862  , -0.48384288],\n",
      "       [-0.83288455,  0.21962643,  0.28512913,  0.2755658 ],\n",
      "       [-0.5074733 , -0.04543554, -0.307152  ,  0.42231953],\n",
      "       [ 0.00767341,  0.36268455, -0.04694096, -0.0591063 ],\n",
      "       [ 0.3747226 ,  0.35341874,  0.08075029,  0.17552052]],\n",
      "      dtype=float32)>]\n"
     ]
    }
   ],
   "source": [
    "inputs = tf.random.normal([32, 10, 8])\n",
    "rnn = tf.keras.layers.RNN(tf.keras.layers.LSTMCell(4)\n",
    "                          ,   return_state=True)\n",
    "output, *state = rnn(inputs)\n",
    "#output = rnn(inputs)\n",
    "\n",
    "\n",
    "print(output.shape)\n",
    "print(state)"
   ],
   "metadata": {
    "collapsed": false,
    "pycharm": {
     "name": "#%%\n"
    }
   }
  },
  {
   "cell_type": "code",
   "execution_count": 8,
   "outputs": [
    {
     "data": {
      "text/plain": "<tf.Tensor: shape=(), dtype=float32, numpy=0.23698075>"
     },
     "execution_count": 8,
     "metadata": {},
     "output_type": "execute_result"
    }
   ],
   "source": [
    "output[3]"
   ],
   "metadata": {
    "collapsed": false,
    "pycharm": {
     "name": "#%%\n"
    }
   }
  },
  {
   "cell_type": "code",
   "execution_count": 9,
   "outputs": [
    {
     "name": "stdout",
     "output_type": "stream",
     "text": [
      "(32, 10, 4)\n",
      "(32, 4)\n",
      "(32, 4)\n"
     ]
    }
   ],
   "source": [
    "rnn = tf.keras.layers.RNN(\n",
    "   tf.keras.layers.LSTMCell(4),\n",
    "   return_sequences=True,\n",
    "   return_state=True)\n",
    "whole_seq_output, final_memory_state, final_carry_state = rnn(inputs)\n",
    "print(whole_seq_output.shape)\n",
    "\n",
    "print(final_memory_state.shape)\n",
    "\n",
    "print(final_carry_state.shape)"
   ],
   "metadata": {
    "collapsed": false,
    "pycharm": {
     "name": "#%%\n"
    }
   }
  },
  {
   "cell_type": "code",
   "execution_count": 10,
   "outputs": [
    {
     "data": {
      "text/plain": "<tf.Tensor: shape=(8, 1, 3), dtype=float32, numpy=\narray([[[ 0.5381031 , -1.4255388 , -0.6456724 ]],\n\n       [[-0.9137203 , -0.5144044 , -0.59722537]],\n\n       [[ 3.348789  , -0.09720505,  0.5690337 ]],\n\n       [[ 0.31412634,  0.9865699 , -0.27956963]],\n\n       [[-1.44997   ,  1.3344163 , -2.1146712 ]],\n\n       [[-2.0259898 , -0.25282076,  0.18920663]],\n\n       [[ 0.36020824,  0.6942095 ,  0.40888736]],\n\n       [[-0.17757742,  1.5536871 ,  0.47746608]]], dtype=float32)>"
     },
     "execution_count": 10,
     "metadata": {},
     "output_type": "execute_result"
    }
   ],
   "source": [
    "OUT_STEPS = 3\n",
    "\n",
    "inputs = tf.random.normal([8, 8, 3])\n",
    "#print(inputs)\n",
    "tf.tile(inputs[:, -1:, :], [1, 1, 1])\n",
    "#tf.tile(inputs[:, -1:, :], [1, OUT_STEPS, 1])"
   ],
   "metadata": {
    "collapsed": false,
    "pycharm": {
     "name": "#%%\n"
    }
   }
  },
  {
   "cell_type": "code",
   "execution_count": 2,
   "outputs": [
    {
     "name": "stdout",
     "output_type": "stream",
     "text": [
      "Model: \"sequential\"\n",
      "_________________________________________________________________\n",
      "Layer (type)                 Output Shape              Param #   \n",
      "=================================================================\n",
      "embedding (Embedding)        (None, None, 64)          64000     \n",
      "_________________________________________________________________\n",
      "lstm (LSTM)                  (None, 128)               98816     \n",
      "_________________________________________________________________\n",
      "dense (Dense)                (None, 10)                1290      \n",
      "=================================================================\n",
      "Total params: 164,106\n",
      "Trainable params: 164,106\n",
      "Non-trainable params: 0\n",
      "_________________________________________________________________\n"
     ]
    }
   ],
   "source": [
    "import numpy as np\n",
    "import tensorflow as tf\n",
    "from tensorflow import keras\n",
    "from tensorflow.keras import layers\n",
    "model = keras.Sequential()\n",
    "# Add an Embedding layer expecting input vocab of size 1000, and\n",
    "# output embedding dimension of size 64.\n",
    "model.add(layers.Embedding(input_dim=1000, output_dim=64))\n",
    "\n",
    "# Add a LSTM layer with 128 internal units.\n",
    "model.add(layers.LSTM(128))\n",
    "\n",
    "# Add a Dense layer with 10 units.\n",
    "model.add(layers.Dense(10))\n",
    "\n",
    "model.summary()"
   ],
   "metadata": {
    "collapsed": false,
    "pycharm": {
     "name": "#%%\n"
    }
   }
  },
  {
   "cell_type": "code",
   "execution_count": 12,
   "outputs": [
    {
     "data": {
      "image/png": "[encoded data removed]",
      "text/plain": "<IPython.core.display.Image object>"
     },
     "execution_count": 12,
     "metadata": {},
     "output_type": "execute_result"
    }
   ],
   "source": [
    "from keras.utils import plot_model\n",
    "\n",
    "tf.keras.utils.plot_model(\n",
    "    model,\n",
    "    to_file=\"model.png\",\n",
    "    show_shapes=False,\n",
    " #   show_dtype=False,\n",
    "    show_layer_names=True,\n",
    "    rankdir=\"TB\",\n",
    "    expand_nested=False,\n",
    "    dpi=96,\n",
    ")\n",
    "\n",
    "dot_img_file = ' model_1.png'\n",
    "tf.keras.utils.plot_model(model, to_file=dot_img_file, show_shapes=True)"
   ],
   "metadata": {
    "collapsed": false,
    "pycharm": {
     "name": "#%%\n"
    }
   }
  },
  {
   "cell_type": "code",
   "execution_count": 13,
   "outputs": [
    {
     "data": {
      "image/png": "[encoded data removed]",
      "text/plain": "<IPython.core.display.Image object>"
     },
     "execution_count": 13,
     "metadata": {},
     "output_type": "execute_result"
    }
   ],
   "source": [
    "input = tf.keras.Input(shape=(100,), dtype='int32', name='input')\n",
    "x = tf.keras.layers.Embedding(\n",
    "    output_dim=512, input_dim=10000, input_length=100)(input)\n",
    "x = tf.keras.layers.LSTM(32)(x)\n",
    "x = tf.keras.layers.Dense(64, activation='relu')(x)\n",
    "x = tf.keras.layers.Dense(64, activation='relu')(x)\n",
    "x = tf.keras.layers.Dense(64, activation='relu')(x)\n",
    "output = tf.keras.layers.Dense(1, activation='sigmoid', name='output')(x)\n",
    "model = tf.keras.Model(inputs=[input], outputs=[output])\n",
    "dot_img_file = ' model_1.png'\n",
    "tf.keras.utils.plot_model(model, to_file=dot_img_file, show_shapes=True)"
   ],
   "metadata": {
    "collapsed": false,
    "pycharm": {
     "name": "#%%\n"
    }
   }
  },
  {
   "cell_type": "code",
   "execution_count": 14,
   "outputs": [
    {
     "data": {
      "text/plain": "<pydot.Dot at 0x1ae79e1cb20>"
     },
     "execution_count": 14,
     "metadata": {},
     "output_type": "execute_result"
    }
   ],
   "source": [
    "import graphviz\n",
    "\n",
    "tf.keras.utils.model_to_dot(\n",
    "    model,\n",
    "    show_shapes=True,\n",
    "#    show_dtype=False,\n",
    "    show_layer_names=True,\n",
    "    rankdir=\"TB\",\n",
    "    expand_nested=True,\n",
    "    dpi=96,\n",
    "    subgraph=True,\n",
    ")\n",
    "\n",
    "tf.keras.utils.model_to_dot(model, show_shapes=True)"
   ],
   "metadata": {
    "collapsed": false,
    "pycharm": {
     "name": "#%%\n"
    }
   }
  }
 ],
 "metadata": {
  "kernelspec": {
   "display_name": "Python 3",
   "language": "python",
   "name": "python3"
  },
  "language_info": {
   "codemirror_mode": {
    "name": "ipython",
    "version": 2
   },
   "file_extension": ".py",
   "mimetype": "text/x-python",
   "name": "python",
   "nbconvert_exporter": "python",
   "pygments_lexer": "ipython2",
   "version": "2.7.6"
  }
 },
 "nbformat": 4,
 "nbformat_minor": 0
}